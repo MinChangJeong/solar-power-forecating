{
 "cells": [
  {
   "cell_type": "code",
   "execution_count": 1,
   "metadata": {},
   "outputs": [],
   "source": [
    "import warnings\n",
    "warnings.filterwarnings(action='ignore')"
   ]
  },
  {
   "cell_type": "code",
   "execution_count": 2,
   "metadata": {},
   "outputs": [],
   "source": [
    "# print(\"일사량 => \", SOLAR)\n",
    "SOLAR ='reset_match'"
   ]
  },
  {
   "cell_type": "markdown",
   "metadata": {},
   "source": [
    "### 모델링\n",
    "\n",
    "##### LinearRegression, SVM(SVC, SVR), Gradientboosting, Decisiontree, Randomforest"
   ]
  },
  {
   "cell_type": "markdown",
   "metadata": {},
   "source": [
    "### 모듈 불러오기\n",
    "\n",
    "#### 규칙 \n",
    "    훈련, 정확도\n",
    "    1) 기업데이터의 일사량으로 만 훈련, 스코어\n",
    "    2) 기업데이터의 일사량, 기상청의 환경데이터 포함 훈련, 스코어\n",
    "    -> 더 높은 스코어를 가진 규칙 채택\n",
    "\n",
    "    예측,\n",
    "    1-1) 훈련모델 예측 -> 기상청의 일사량으로 예측\n",
    "    1-2) 훈련모델 예측 -> 기상청의 일사량을 보정 후 예측\n",
    "\n",
    "    2-1) 훈련모델 예측 -> 기상청의 일사량, 기상청의 환경데이터로 예측\n",
    "    2-2) 훈련모델 예측 -> 기상청의 일사량을 보정 후, 기상청의 환경데이터로 예측\n",
    "\n",
    "\n",
    "        ### 결과 :: \n",
    "            1) 이 높다 -> 환경데이터를 사용하는 것이 무의미 \n",
    "            2) 가 높다 -> 환경데이터를 사용하는 것 의미 있다.\n",
    "\n",
    "            최상의 결과 : 2-2가 가장 정확한 것\n"
   ]
  },
  {
   "cell_type": "code",
   "execution_count": 3,
   "metadata": {},
   "outputs": [
    {
     "data": {
      "text/plain": [
       "'C:\\\\Users\\\\wjdal\\\\OneDrive\\\\바탕 화면\\\\PROJECT_ENITT\\\\Prediction_Solar_Generation\\\\NoteBook'"
      ]
     },
     "execution_count": 3,
     "metadata": {},
     "output_type": "execute_result"
    }
   ],
   "source": [
    "import numpy as np \n",
    "import pandas as pd \n",
    "from sklearn.model_selection import train_test_split\n",
    "import os \n",
    "import seaborn as sns\n",
    "import matplotlib.pyplot as plt\n",
    "import plotly\n",
    "import plotly.graph_objs as go # 그래프 객체 생성\n",
    "from plotly.subplots import make_subplots\n",
    "\n",
    "os.getcwd()"
   ]
  },
  {
   "cell_type": "code",
   "execution_count": 4,
   "metadata": {},
   "outputs": [],
   "source": [
    "# banpo = pd.read_csv('../Data/Final_Data/banpo1_power_weather_df.csv', encoding=\"utf8\")"
   ]
  },
  {
   "cell_type": "code",
   "execution_count": 5,
   "metadata": {},
   "outputs": [],
   "source": [
    "# banpo"
   ]
  },
  {
   "cell_type": "code",
   "execution_count": 6,
   "metadata": {},
   "outputs": [],
   "source": [
    "def mean_absolute_percentage_error(a, b):\n",
    "    \n",
    "    a_set, b_set = np.array(a), np.array(b)\n",
    "    \n",
    "    a_list= []\n",
    "    b_list = []\n",
    "    for i, j in zip(a_set, b_set):\n",
    "        for z in i:\n",
    "            a_list.append(z)\n",
    "        b_list.append(j)\n",
    "    # print(a_list)\n",
    "    df1 = pd.Series(a_list)\n",
    "    df2 = pd.Series(b_list)\n",
    "\n",
    "    fig = make_subplots(specs=[[{\"secondary_y\": True}]])\n",
    "\n",
    "    fig.add_trace(go.Scatter(x=df1.index, y=df1,  mode='lines', name=\"true\", line=dict(color='blue')), secondary_y = False)\n",
    "    fig.add_trace(go.Scatter(x=df2.index, y=df2, mode='lines', name=\"pred\", line=dict(color='red')), secondary_y = False)\n",
    "    fig.update_layout(width=1000, height=500,)\n",
    "    fig.show()\n",
    "\n",
    "    return np.mean(np.abs((a_set - b_set) / a_set)) * 100"
   ]
  },
  {
   "cell_type": "markdown",
   "metadata": {},
   "source": [
    "### load_dataset"
   ]
  },
  {
   "cell_type": "code",
   "execution_count": 7,
   "metadata": {},
   "outputs": [],
   "source": [
    "df = pd.read_csv(\"../Data/Final_Data/total_enitt_data2.csv\", encoding=\"utf-8\")\n",
    "# df = pd.read_csv(\"./마지막데이터/banpo1_power_weather_df.csv\", encoding=\"utf-8\")\n",
    "df = df[~(df[\"합계 일사량(MJ/m2)\"].isna() == True)]\n",
    "\n",
    "\n",
    "df_need_1 = df[[\"env_slopesolar\", \"watt\", \"reset_match\", \"match_solar\"]]\n",
    "df_need_2 = df[[\"env_slopesolar\", \"최저기온(°C)\", \"최고기온(°C)\", \"일강수량(mm)\", \"평균 풍속(m/s)\",\"평균 상대습도(%)\", \"가조시간(hr)\",\"평균 전운량(1/10)\",  \"watt\", \"reset_match\",\"match_solar\"]]\n",
    "df_need_2.columns = [\"env_slopesolar\", \"최저기온\", \"최고기온\", \"일강수량\", \"평균풍속\", \"평균상대습도\", \"가조시간\", \"평균전운량\", \"watt\", \"reset_match\", \"match_solar\"]\n",
    "\n",
    "df_need_1\n",
    "df_need_2 = df_need_2.fillna(0)\n",
    "\n"
   ]
  },
  {
   "cell_type": "markdown",
   "metadata": {},
   "source": [
    "### train_test_split"
   ]
  },
  {
   "cell_type": "code",
   "execution_count": 8,
   "metadata": {},
   "outputs": [],
   "source": [
    "from sklearn.model_selection import train_test_split\n",
    "\n",
    "def split_set(df):\n",
    "    x_train, x_test, y_train, y_test = train_test_split(df.iloc[:, :-1], df.iloc[:, -1:], test_size=0.2, shuffle=True , random_state = 42)\n",
    "\n",
    "    return x_train, x_test, y_train, y_test\n",
    " "
   ]
  },
  {
   "cell_type": "markdown",
   "metadata": {},
   "source": [
    "    1) LinearRegression"
   ]
  },
  {
   "cell_type": "code",
   "execution_count": 9,
   "metadata": {},
   "outputs": [],
   "source": [
    "\n",
    "\n",
    "# import statsmodels.formula.api as smf\n",
    "\n",
    "# print(\"----------ols----------\")\n",
    "\n",
    "# lr_model = smf.ols(formula = \"watt~env_slopesolar\", data=df_need_1)\n",
    "# lr_model = lr_model.fit()\n",
    "# print(lr_model.summary())\n",
    "\n",
    "# lr_model2 = smf.ols(formula = \"watt~env_slopesolar + 최저기온 + 최고기온 + 일강수량 + 평균풍속 + 평균상대습도 + 가조시간 + 평균전운량\", data=df_need_2)\n",
    "# lr_model2 = lr_model2.fit()\n",
    "# print(lr_model2.summary())\n",
    "\n",
    "\n"
   ]
  },
  {
   "cell_type": "code",
   "execution_count": 10,
   "metadata": {},
   "outputs": [],
   "source": [
    "\n",
    "from sklearn.linear_model import LinearRegression\n",
    "\n",
    "def model(solar, name):\n",
    "    print(\"----------LinearRegression----------\")\n",
    "\n",
    "\n",
    "    rd_df_x = df_need_2[[SOLAR]]\n",
    "    rd_df_y = df_need_2[[\"watt\"]]\n",
    "\n",
    "    rd_df_x_train, rd_df_x_test, rd_df_y_train, rd_df_y_test = train_test_split(rd_df_x, rd_df_y, test_size=0.2, shuffle=True, random_state = 42)\n",
    "\n",
    "    model = LinearRegression()\n",
    "    model.fit(rd_df_x_train, rd_df_y_train)\n",
    "    train_score1 = model.score(rd_df_x_train, rd_df_y_train)\n",
    "    test_score1 = model.score(rd_df_x_test, rd_df_y_test)\n",
    "    pred1 = model.predict(rd_df_x_test)\n",
    "    # acc_score1 = accuracy_score(rd_df_y_test, pred1)\n",
    "\n",
    "    print(\"훈련정확도 : \", train_score1)\n",
    "    print(\"예측정확도 : \", test_score1)\n",
    "    # print(\"acc_score : \", acc_score1)\n",
    "\n",
    "\n",
    "    rd_df_x = df_need_2[[SOLAR, \"최저기온\", \"최고기온\", \"일강수량\", \"평균풍속\", \"평균상대습도\", \"가조시간\", \"평균전운량\"]]\n",
    "    rd_df_y = df_need_2[[\"watt\"]]\n",
    "\n",
    "    rd_df_x_train, rd_df_x_test, rd_df_y_train, rd_df_y_test = train_test_split(rd_df_x, rd_df_y, test_size=0.2, shuffle=True, random_state = 42)\n",
    "\n",
    "    model = LinearRegression()\n",
    "    model.fit(rd_df_x_train, rd_df_y_train)\n",
    "    train_score2 = model.score(rd_df_x_train, rd_df_y_train)\n",
    "    test_score2 = model.score(rd_df_x_test, rd_df_y_test)\n",
    "    pred2 = model.predict(rd_df_x_test)\n",
    "    # acc_score2 = accuracy_score(rd_df_y_test, pred2)\n",
    "\n",
    "    print(\"훈련정확도2 : \", train_score2)\n",
    "    print(\"예측정확도2 : \", test_score2)\n",
    "    # print(\"acc_score2 : \", acc_score1)\n"
   ]
  },
  {
   "cell_type": "markdown",
   "metadata": {},
   "source": [
    "    2) SVM - SVC, SVR"
   ]
  },
  {
   "cell_type": "code",
   "execution_count": 11,
   "metadata": {},
   "outputs": [
    {
     "name": "stdout",
     "output_type": "stream",
     "text": [
      "----------SVR----------\n",
      "훈련정확도 :  0.44033092403581464\n",
      "예측정확도 :  0.43397978129214965\n",
      "훈련정확도2 :  0.43686707462862073\n",
      "예측정확도2 :  0.4314148312144176\n"
     ]
    }
   ],
   "source": [
    "from sklearn.svm import SVR\n",
    "from sklearn.svm import SVC\n",
    "\n",
    "print(\"----------SVR----------\")\n",
    "\n",
    "rd_df_x = df_need_2[[SOLAR]]\n",
    "rd_df_y = df_need_2[[\"watt\"]]\n",
    "\n",
    "rd_df_x_train, rd_df_x_test, rd_df_y_train, rd_df_y_test = train_test_split(rd_df_x, rd_df_y, test_size=0.2, shuffle=True, random_state = 42)\n",
    "\n",
    "model = SVR()\n",
    "model.fit(rd_df_x_train, rd_df_y_train)\n",
    "train_score1 = model.score(rd_df_x_train, rd_df_y_train)\n",
    "test_score1 = model.score(rd_df_x_test, rd_df_y_test)\n",
    "pred1 = model.predict(rd_df_x_test)\n",
    "# acc_score1 = accuracy_score(rd_df_y_test, pred1)\n",
    "\n",
    "print(\"훈련정확도 : \", train_score1)\n",
    "print(\"예측정확도 : \", test_score1)\n",
    "# print(\"acc_score : \", acc_score1)\n",
    "\n",
    "\n",
    "rd_df_x = df_need_2[[SOLAR, \"최저기온\", \"최고기온\", \"일강수량\", \"평균풍속\", \"평균상대습도\", \"가조시간\", \"평균전운량\"]]\n",
    "rd_df_y = df_need_2[[\"watt\"]]\n",
    "\n",
    "rd_df_x_train, rd_df_x_test, rd_df_y_train, rd_df_y_test = train_test_split(rd_df_x, rd_df_y, test_size=0.2, shuffle=True, random_state = 42)\n",
    "\n",
    "model = SVR()\n",
    "model.fit(rd_df_x_train, rd_df_y_train)\n",
    "train_score2 = model.score(rd_df_x_train, rd_df_y_train)\n",
    "test_score2 = model.score(rd_df_x_test, rd_df_y_test)\n",
    "pred2 = model.predict(rd_df_x_test)\n",
    "# acc_score2 = accuracy_score(rd_df_y_test, pred2)\n",
    "\n",
    "print(\"훈련정확도2 : \", train_score2)\n",
    "print(\"예측정확도2 : \", test_score2)\n",
    "# print(\"acc_score2 : \", acc_score1)\n",
    "\n",
    "\n"
   ]
  },
  {
   "cell_type": "markdown",
   "metadata": {},
   "source": [
    "    3) GradientBoosting"
   ]
  },
  {
   "cell_type": "code",
   "execution_count": 12,
   "metadata": {},
   "outputs": [
    {
     "name": "stdout",
     "output_type": "stream",
     "text": [
      "----------GradientBoosting----------\n"
     ]
    }
   ],
   "source": [
    "\n",
    "# rd_df_x = df_need_2[[SOLAR, \"최저기온\", \"최고기온\", \"일강수량\", \"평균풍속\", \"평균상대습도\", \"가조시간\", \"평균전운량\"]]\n",
    "# rd_df_y = df_need_2[[\"watt\"]]\n",
    "\n",
    "# rd_df_x_train, rd_df_x_test, rd_df_y_train, rd_df_y_test = train_test_split(rd_df_x, rd_df_y, test_size=0.2, shuffle=True, random_state = 42)\n",
    "\n",
    "# model = GradientBoostingRegressor()\n",
    "# model.fit(rd_df_x_train, rd_df_y_train)\n",
    "# train_score2 = model.score(rd_df_x_train, rd_df_y_train)\n",
    "# test_score2 = model.score(rd_df_x_test, rd_df_y_test)\n",
    "# pred2 = model.predict(rd_df_x_test)\n",
    "# # acc_score2 = accuracy_score(rd_df_y_test, pred2)\n",
    "\n",
    "# print(\"훈련 R-squared1: \", train_score2)\n",
    "# print(\"예측 R-squared1 : \", test_score2)\n",
    "\n",
    "from sklearn.ensemble import GradientBoostingRegressor\n",
    "from sklearn.ensemble import GradientBoostingClassifier\n",
    "\n",
    "print(\"----------GradientBoosting----------\")"
   ]
  },
  {
   "cell_type": "code",
   "execution_count": 13,
   "metadata": {},
   "outputs": [
    {
     "name": "stdout",
     "output_type": "stream",
     "text": [
      "훈련 R-squared1 :  0.879130532048404\n",
      "예측 R-squared1 :  0.8336092148885401\n"
     ]
    }
   ],
   "source": [
    "rd_df_x = df_need_2[[\"match_solar\",\"평균풍속\", \"평균상대습도\", \"가조시간\"]]\n",
    "rd_df_y = df_need_2[[\"watt\"]]\n",
    "\n",
    "rd_df_x_train, rd_df_x_test, rd_df_y_train, rd_df_y_test = train_test_split(rd_df_x, \n",
    "                                                                            rd_df_y, \n",
    "                                                                            test_size=0.2, \n",
    "                                                                            shuffle=True,\n",
    "                                                                            random_state = 42)\n",
    "\n",
    "model = GradientBoostingRegressor()\n",
    "model.fit(rd_df_x_train, rd_df_y_train)\n",
    "train_score1 = model.score(rd_df_x_train, rd_df_y_train)\n",
    "test_score1 = model.score(rd_df_x_test, rd_df_y_test)\n",
    "pred1 = model.predict(rd_df_x_test)\n",
    "\n",
    "print(\"훈련 R-squared1 : \", train_score1)\n",
    "print(\"예측 R-squared1 : \", test_score1)"
   ]
  },
  {
   "cell_type": "code",
   "execution_count": 18,
   "metadata": {},
   "outputs": [
    {
     "data": {
      "text/plain": [
       "23.77415618549664"
      ]
     },
     "execution_count": 18,
     "metadata": {},
     "output_type": "execute_result"
    }
   ],
   "source": [
    "y_true_list=[]\n",
    "y_pred_list=[]\n",
    "for i, j in zip(rd_df_y_test['watt'], range(len(pred1))):\n",
    "    if (i !=0) & (pred1[j]>-3):\n",
    "        y_true_list.append(i)\n",
    "        y_pred_list.append(pred1[j])\n",
    "        \n",
    "y_true_list, y_pred_list = np.array(y_true_list), np.array(y_pred_list)\n",
    "\n",
    "np.mean(np.abs((y_true_list - y_pred_list) / y_true_list)) *100"
   ]
  },
  {
   "cell_type": "code",
   "execution_count": 19,
   "metadata": {},
   "outputs": [
    {
     "data": {
      "text/plain": [
       "690"
      ]
     },
     "execution_count": 19,
     "metadata": {},
     "output_type": "execute_result"
    }
   ],
   "source": [
    "len(y_pred_list)"
   ]
  },
  {
   "cell_type": "code",
   "execution_count": 20,
   "metadata": {},
   "outputs": [
    {
     "data": {
      "text/html": [
       "<div>\n",
       "<style scoped>\n",
       "    .dataframe tbody tr th:only-of-type {\n",
       "        vertical-align: middle;\n",
       "    }\n",
       "\n",
       "    .dataframe tbody tr th {\n",
       "        vertical-align: top;\n",
       "    }\n",
       "\n",
       "    .dataframe thead th {\n",
       "        text-align: right;\n",
       "    }\n",
       "</style>\n",
       "<table border=\"1\" class=\"dataframe\">\n",
       "  <thead>\n",
       "    <tr style=\"text-align: right;\">\n",
       "      <th></th>\n",
       "      <th>true</th>\n",
       "      <th>pred</th>\n",
       "      <th>diff2</th>\n",
       "    </tr>\n",
       "  </thead>\n",
       "  <tbody>\n",
       "    <tr>\n",
       "      <th>count</th>\n",
       "      <td>690.000000</td>\n",
       "      <td>690.000000</td>\n",
       "      <td>690.000000</td>\n",
       "    </tr>\n",
       "    <tr>\n",
       "      <th>mean</th>\n",
       "      <td>2613.257454</td>\n",
       "      <td>2579.624597</td>\n",
       "      <td>-0.071331</td>\n",
       "    </tr>\n",
       "    <tr>\n",
       "      <th>std</th>\n",
       "      <td>1640.461358</td>\n",
       "      <td>1547.030102</td>\n",
       "      <td>0.523382</td>\n",
       "    </tr>\n",
       "    <tr>\n",
       "      <th>min</th>\n",
       "      <td>45.077460</td>\n",
       "      <td>177.569826</td>\n",
       "      <td>-7.187008</td>\n",
       "    </tr>\n",
       "    <tr>\n",
       "      <th>25%</th>\n",
       "      <td>1223.657820</td>\n",
       "      <td>1257.936323</td>\n",
       "      <td>-0.162696</td>\n",
       "    </tr>\n",
       "    <tr>\n",
       "      <th>50%</th>\n",
       "      <td>2351.988648</td>\n",
       "      <td>2330.196687</td>\n",
       "      <td>-0.001181</td>\n",
       "    </tr>\n",
       "    <tr>\n",
       "      <th>75%</th>\n",
       "      <td>3686.006069</td>\n",
       "      <td>3642.023378</td>\n",
       "      <td>0.132099</td>\n",
       "    </tr>\n",
       "    <tr>\n",
       "      <th>max</th>\n",
       "      <td>8808.159104</td>\n",
       "      <td>8006.368307</td>\n",
       "      <td>0.720616</td>\n",
       "    </tr>\n",
       "  </tbody>\n",
       "</table>\n",
       "</div>"
      ],
      "text/plain": [
       "              true         pred       diff2\n",
       "count   690.000000   690.000000  690.000000\n",
       "mean   2613.257454  2579.624597   -0.071331\n",
       "std    1640.461358  1547.030102    0.523382\n",
       "min      45.077460   177.569826   -7.187008\n",
       "25%    1223.657820  1257.936323   -0.162696\n",
       "50%    2351.988648  2330.196687   -0.001181\n",
       "75%    3686.006069  3642.023378    0.132099\n",
       "max    8808.159104  8006.368307    0.720616"
      ]
     },
     "execution_count": 20,
     "metadata": {},
     "output_type": "execute_result"
    }
   ],
   "source": [
    "s1 = pd.Series(y_true_list)\n",
    "s2 = pd.Series(y_pred_list)\n",
    "\n",
    "dataaa = {\"true\" : s1, \"pred\" : s2}\n",
    "\n",
    "df12 = pd.DataFrame(dataaa)\n",
    "df12[\"diff2\"] = (df12[\"true\"] - df12[\"pred\"]) / df12[\"true\"]\n",
    "\n",
    "# plt.plot(df12[\"true\"])\n",
    "# plt.plot(df12[\"pred\"])\n",
    "df12.describe()"
   ]
  },
  {
   "cell_type": "code",
   "execution_count": 22,
   "metadata": {},
   "outputs": [
    {
     "data": {
      "text/plain": [
       "(21.030962753321056, 686)"
      ]
     },
     "execution_count": 22,
     "metadata": {},
     "output_type": "execute_result"
    }
   ],
   "source": [
    "lists= []\n",
    "for i in df12[\"diff2\"]:\n",
    "    if i > -3:\n",
    "        lists.append(i)\n",
    "np.mean(np.abs(lists)) *100, len(lists)"
   ]
  },
  {
   "cell_type": "code",
   "execution_count": 27,
   "metadata": {},
   "outputs": [
    {
     "name": "stdout",
     "output_type": "stream",
     "text": [
      "훈련 R-squared1:  0.9098835246535839\n",
      "예측 R-squared1 :  0.8737779498282361\n"
     ]
    }
   ],
   "source": [
    "rd_df_x = df_need_2[['env_slopesolar', \"최저기온\", \"최고기온\", \"일강수량\", \"평균풍속\", \"평균상대습도\", \"가조시간\", \"평균전운량\"]]\n",
    "rd_df_y = df_need_2[[\"watt\"]]\n",
    "\n",
    "rd_df_x_train, rd_df_x_test, rd_df_y_train, rd_df_y_test = train_test_split(rd_df_x, rd_df_y, test_size=0.2, shuffle=True, random_state = 42)\n",
    "\n",
    "model = GradientBoostingRegressor()\n",
    "model.fit(rd_df_x_train, rd_df_y_train)\n",
    "train_score2 = model.score(rd_df_x_train, rd_df_y_train)\n",
    "test_score2 = model.score(rd_df_x_test, rd_df_y_test)\n",
    "pred2 = model.predict(rd_df_x_test)\n",
    "# acc_score2 = accuracy_score(rd_df_y_test, pred2)\n",
    "\n",
    "print(\"훈련 R-squared1: \", train_score2)\n",
    "print(\"예측 R-squared1 : \", test_score2)"
   ]
  },
  {
   "cell_type": "code",
   "execution_count": 28,
   "metadata": {},
   "outputs": [],
   "source": [
    "y_true_list=[]\n",
    "y_pred_list=[]\n",
    "for i, j in zip(rd_df_y_test['watt'], range(len(pred2))):\n",
    "    if i !=0:\n",
    "        y_true_list.append(i)\n",
    "        y_pred_list.append(pred1[j])\n",
    "        \n",
    "y_true_list, y_pred_list = np.array(y_true_list), np.array(y_pred_list)\n",
    "\n",
    "# np.mean(np.abs((y_true_list - y_pred_list) / y_true_list)) *100"
   ]
  },
  {
   "cell_type": "code",
   "execution_count": 31,
   "metadata": {},
   "outputs": [
    {
     "data": {
      "text/html": [
       "<div>\n",
       "<style scoped>\n",
       "    .dataframe tbody tr th:only-of-type {\n",
       "        vertical-align: middle;\n",
       "    }\n",
       "\n",
       "    .dataframe tbody tr th {\n",
       "        vertical-align: top;\n",
       "    }\n",
       "\n",
       "    .dataframe thead th {\n",
       "        text-align: right;\n",
       "    }\n",
       "</style>\n",
       "<table border=\"1\" class=\"dataframe\">\n",
       "  <thead>\n",
       "    <tr style=\"text-align: right;\">\n",
       "      <th></th>\n",
       "      <th>true</th>\n",
       "      <th>pred</th>\n",
       "      <th>diff2</th>\n",
       "    </tr>\n",
       "  </thead>\n",
       "  <tbody>\n",
       "    <tr>\n",
       "      <th>count</th>\n",
       "      <td>690.000000</td>\n",
       "      <td>690.000000</td>\n",
       "      <td>690.000000</td>\n",
       "    </tr>\n",
       "    <tr>\n",
       "      <th>mean</th>\n",
       "      <td>2613.257454</td>\n",
       "      <td>2579.624597</td>\n",
       "      <td>-0.071331</td>\n",
       "    </tr>\n",
       "    <tr>\n",
       "      <th>std</th>\n",
       "      <td>1640.461358</td>\n",
       "      <td>1547.030102</td>\n",
       "      <td>0.523382</td>\n",
       "    </tr>\n",
       "    <tr>\n",
       "      <th>min</th>\n",
       "      <td>45.077460</td>\n",
       "      <td>177.569826</td>\n",
       "      <td>-7.187008</td>\n",
       "    </tr>\n",
       "    <tr>\n",
       "      <th>25%</th>\n",
       "      <td>1223.657820</td>\n",
       "      <td>1257.936323</td>\n",
       "      <td>-0.162696</td>\n",
       "    </tr>\n",
       "    <tr>\n",
       "      <th>50%</th>\n",
       "      <td>2351.988648</td>\n",
       "      <td>2330.196687</td>\n",
       "      <td>-0.001181</td>\n",
       "    </tr>\n",
       "    <tr>\n",
       "      <th>75%</th>\n",
       "      <td>3686.006069</td>\n",
       "      <td>3642.023378</td>\n",
       "      <td>0.132099</td>\n",
       "    </tr>\n",
       "    <tr>\n",
       "      <th>max</th>\n",
       "      <td>8808.159104</td>\n",
       "      <td>8006.368307</td>\n",
       "      <td>0.720616</td>\n",
       "    </tr>\n",
       "  </tbody>\n",
       "</table>\n",
       "</div>"
      ],
      "text/plain": [
       "              true         pred       diff2\n",
       "count   690.000000   690.000000  690.000000\n",
       "mean   2613.257454  2579.624597   -0.071331\n",
       "std    1640.461358  1547.030102    0.523382\n",
       "min      45.077460   177.569826   -7.187008\n",
       "25%    1223.657820  1257.936323   -0.162696\n",
       "50%    2351.988648  2330.196687   -0.001181\n",
       "75%    3686.006069  3642.023378    0.132099\n",
       "max    8808.159104  8006.368307    0.720616"
      ]
     },
     "execution_count": 31,
     "metadata": {},
     "output_type": "execute_result"
    }
   ],
   "source": [
    "s1 = pd.Series(y_true_list)\n",
    "s2 = pd.Series(y_pred_list)\n",
    "\n",
    "dataaa = {\"true\" : s1, \"pred\" : s2}\n",
    "\n",
    "df12 = pd.DataFrame(dataaa)\n",
    "df12[\"diff2\"] = (df12[\"true\"] - df12[\"pred\"]) / df12[\"true\"]\n",
    "\n",
    "# plt.plot(df12[\"true\"])\n",
    "# plt.plot(df12[\"pred\"])\n",
    "df12.describe()"
   ]
  },
  {
   "cell_type": "code",
   "execution_count": 32,
   "metadata": {},
   "outputs": [
    {
     "data": {
      "text/plain": [
       "(21.030962753321056, 686)"
      ]
     },
     "execution_count": 32,
     "metadata": {},
     "output_type": "execute_result"
    }
   ],
   "source": [
    "lists= []\n",
    "for i in df12[\"diff2\"]:\n",
    "    if i > -3:\n",
    "        lists.append(i)\n",
    "np.mean(np.abs(lists)) *100, len(lists)"
   ]
  },
  {
   "cell_type": "markdown",
   "metadata": {},
   "source": [
    "    4) Decisiontree"
   ]
  },
  {
   "cell_type": "code",
   "execution_count": null,
   "metadata": {},
   "outputs": [],
   "source": [
    "from sklearn.tree import DecisionTreeClassifier\n",
    "from sklearn.tree import DecisionTreeRegressor\n",
    "\n",
    "print(\"----------DecisionTree----------\")\n",
    "\n",
    "rd_df_x = df_need_2[[SOLAR]]\n",
    "rd_df_y = df_need_2[[\"watt\"]]\n",
    "\n",
    "rd_df_x_train, rd_df_x_test, rd_df_y_train, rd_df_y_test = train_test_split(rd_df_x, rd_df_y, test_size=0.2, shuffle=True, random_state = 42)\n",
    "\n",
    "model = DecisionTreeRegressor()\n",
    "model.fit(rd_df_x_train, rd_df_y_train)\n",
    "train_score1 = model.score(rd_df_x_train, rd_df_y_train)\n",
    "test_score1 = model.score(rd_df_x_test, rd_df_y_test)\n",
    "pred1 = model.predict(rd_df_x_test)\n",
    "# acc_score1 = accuracy_score(rd_df_y_test, pred1)\n",
    "\n",
    "print(\"훈련정확도 : \", train_score1)\n",
    "print(\"예측정확도 : \", test_score1)\n",
    "# print(\"acc_score : \", acc_score1)\n",
    "\n",
    "\n",
    "rd_df_x = df_need_2[[SOLAR, \"최저기온\", \"최고기온\", \"일강수량\", \"평균풍속\", \"평균상대습도\", \"가조시간\", \"평균전운량\"]]\n",
    "rd_df_y = df_need_2[[\"watt\"]]\n",
    "\n",
    "rd_df_x_train, rd_df_x_test, rd_df_y_train, rd_df_y_test = train_test_split(rd_df_x, rd_df_y, \n",
    "                                                                            test_size=0.2, \n",
    "                                                                            shuffle=True, \n",
    "                                                                            random_state = 42)\n",
    "\n",
    "model = DecisionTreeRegressor()\n",
    "model.fit(rd_df_x_train, rd_df_y_train)\n",
    "train_score2 = model.score(rd_df_x_train, rd_df_y_train)\n",
    "test_score2 = model.score(rd_df_x_test, rd_df_y_test)\n",
    "pred2 = model.predict(rd_df_x_test)\n",
    "# acc_score2 = accuracy_score(rd_df_y_test, pred2)\n",
    "\n",
    "print(\"훈련정확도2 : \", train_score2)\n",
    "print(\"예측정확도2 : \", test_score2)\n",
    "# print(\"acc_score2 : \", acc_score1)\n",
    "\n",
    "\n"
   ]
  },
  {
   "cell_type": "markdown",
   "metadata": {},
   "source": [
    "    5) Randomforest"
   ]
  },
  {
   "cell_type": "code",
   "execution_count": 34,
   "metadata": {},
   "outputs": [
    {
     "name": "stdout",
     "output_type": "stream",
     "text": [
      "----------RandomForest----------\n"
     ]
    }
   ],
   "source": [
    "\n",
    "\n",
    "# rd_df_x = df_need_2[[SOLAR, \"최저기온\", \"최고기온\", \"일강수량\", \"평균풍속\", \"평균상대습도\", \"가조시간\", \"평균전운량\"]]\n",
    "# rd_df_y = df_need_2[[\"watt\"]]\n",
    "\n",
    "# rd_df_x_train, rd_df_x_test, rd_df_y_train, rd_df_y_test = train_test_split(rd_df_x, rd_df_y, test_size=0.2, shuffle=True, random_state = 42)\n",
    "\n",
    "# model = RandomForestRegressor()\n",
    "# model.fit(rd_df_x_train, rd_df_y_train)\n",
    "# train_score2 = model.score(rd_df_x_train, rd_df_y_train)\n",
    "# test_score2 = model.score(rd_df_x_test, rd_df_y_test)\n",
    "# pred2 = model.predict(rd_df_x_test)\n",
    "# # acc_score2 = accuracy_score(rd_df_y_test, pred2)\n",
    "\n",
    "# print(\"훈련 R-squared2 : \", train_score2)\n",
    "# print(\"예측 R-squared2 : \", test_score2)\n",
    "\n",
    "\n",
    "from sklearn.ensemble import RandomForestClassifier\n",
    "from sklearn.ensemble import RandomForestRegressor\n",
    "from sklearn.metrics import accuracy_score\n",
    "\n",
    "print(\"----------RandomForest----------\")"
   ]
  },
  {
   "cell_type": "code",
   "execution_count": 35,
   "metadata": {},
   "outputs": [
    {
     "name": "stdout",
     "output_type": "stream",
     "text": [
      "훈련 R-squared1 :  0.9785522361845286\n",
      "예측 R-squared1 :  0.8435036980578434\n"
     ]
    }
   ],
   "source": [
    "rd_df_x = df_need_2[[\"reset_match\",\"평균풍속\", \"평균상대습도\", \"가조시간\"]]\n",
    "rd_df_y = df_need_2[[\"watt\"]]\n",
    "\n",
    "rd_df_x_train, rd_df_x_test, rd_df_y_train, rd_df_y_test = train_test_split(rd_df_x, \n",
    "                                                                            rd_df_y, \n",
    "                                                                            test_size=0.2, \n",
    "                                                                            shuffle=True, \n",
    "                                                                            random_state = 17)\n",
    "\n",
    "model = RandomForestRegressor()\n",
    "model.fit(rd_df_x_train, rd_df_y_train)\n",
    "train_score1 = model.score(rd_df_x_train, rd_df_y_train)\n",
    "test_score1 = model.score(rd_df_x_test, rd_df_y_test)\n",
    "pred1 = model.predict(rd_df_x_test)\n",
    "\n",
    "print(\"훈련 R-squared1 : \", train_score1)\n",
    "print(\"예측 R-squared1 : \", test_score1)"
   ]
  },
  {
   "cell_type": "code",
   "execution_count": 36,
   "metadata": {},
   "outputs": [
    {
     "data": {
      "text/plain": [
       "27.98209890609009"
      ]
     },
     "execution_count": 36,
     "metadata": {},
     "output_type": "execute_result"
    }
   ],
   "source": [
    "y_true_list=[]\n",
    "y_pred_list=[]\n",
    "for i, j in zip(rd_df_y_test['watt'], range(len(pred1))):\n",
    "    if i !=0:\n",
    "        y_true_list.append(i)\n",
    "        y_pred_list.append(pred1[j])\n",
    "        \n",
    "y_true_list, y_pred_list = np.array(y_true_list), np.array(y_pred_list)\n",
    "\n",
    "np.mean(np.abs((y_true_list - y_pred_list) / y_true_list)) * 100"
   ]
  },
  {
   "cell_type": "code",
   "execution_count": 37,
   "metadata": {},
   "outputs": [
    {
     "data": {
      "text/plain": [
       "(19.97835625597008, 685)"
      ]
     },
     "execution_count": 37,
     "metadata": {},
     "output_type": "execute_result"
    }
   ],
   "source": [
    "s1 = pd.Series(y_true_list)\n",
    "s2 = pd.Series(y_pred_list)\n",
    "\n",
    "dataaa = {\"true\" : s1, \"pred\" : s2}\n",
    "\n",
    "df12 = pd.DataFrame(dataaa)\n",
    "df12[\"diff2\"] = (df12[\"true\"] - df12[\"pred\"]) / df12[\"true\"]\n",
    "\n",
    "# plt.plot(df12[\"true\"])\n",
    "# plt.plot(df12[\"pred\"])\n",
    "df12.describe()\n",
    "\n",
    "lists= []\n",
    "for i in df12[\"diff2\"]:\n",
    "    if i > -3:\n",
    "        lists.append(i)\n",
    "np.mean(np.abs(lists)) *100, len(lists)"
   ]
  },
  {
   "cell_type": "code",
   "execution_count": 38,
   "metadata": {},
   "outputs": [
    {
     "name": "stdout",
     "output_type": "stream",
     "text": [
      "훈련 R-squared2 :  0.9796620537257457\n",
      "예측 R-squared2 :  0.8434528680352378\n"
     ]
    }
   ],
   "source": [
    "rd_df_x = df_need_2[['reset_match', \"최저기온\", \"최고기온\", \"일강수량\", \"평균풍속\", \"평균상대습도\", \"가조시간\", \"평균전운량\"]]\n",
    "rd_df_y = df_need_2[[\"watt\"]]\n",
    "\n",
    "rd_df_x_train, rd_df_x_test, rd_df_y_train, rd_df_y_test = train_test_split(rd_df_x, rd_df_y, test_size=0.2, shuffle=True, random_state = 42)\n",
    "\n",
    "model = RandomForestRegressor()\n",
    "model.fit(rd_df_x_train, rd_df_y_train)\n",
    "train_score2 = model.score(rd_df_x_train, rd_df_y_train)\n",
    "test_score2 = model.score(rd_df_x_test, rd_df_y_test)\n",
    "pred2 = model.predict(rd_df_x_test)\n",
    "# acc_score2 = accuracy_score(rd_df_y_test, pred2)\n",
    "\n",
    "print(\"훈련 R-squared2 : \", train_score2)\n",
    "print(\"예측 R-squared2 : \", test_score2)\n"
   ]
  },
  {
   "cell_type": "code",
   "execution_count": 39,
   "metadata": {},
   "outputs": [
    {
     "data": {
      "text/plain": [
       "146.0457614691518"
      ]
     },
     "execution_count": 39,
     "metadata": {},
     "output_type": "execute_result"
    }
   ],
   "source": [
    "y_true_list=[]\n",
    "y_pred_list=[]\n",
    "for i, j in zip(rd_df_y_test['watt'], range(len(pred2))):\n",
    "    if i !=0:\n",
    "        y_true_list.append(i)\n",
    "        y_pred_list.append(pred1[j])\n",
    "        \n",
    "y_true_list, y_pred_list = np.array(y_true_list), np.array(y_pred_list)\n",
    "\n",
    "np.mean(np.abs((y_true_list - y_pred_list) / y_true_list)) * 100"
   ]
  },
  {
   "cell_type": "code",
   "execution_count": 40,
   "metadata": {},
   "outputs": [
    {
     "data": {
      "text/plain": [
       "(64.3175919698319, 628)"
      ]
     },
     "execution_count": 40,
     "metadata": {},
     "output_type": "execute_result"
    }
   ],
   "source": [
    "s1 = pd.Series(y_true_list)\n",
    "s2 = pd.Series(y_pred_list)\n",
    "\n",
    "dataaa = {\"true\" : s1, \"pred\" : s2}\n",
    "\n",
    "df12 = pd.DataFrame(dataaa)\n",
    "df12[\"diff2\"] = (df12[\"true\"] - df12[\"pred\"]) / df12[\"true\"]\n",
    "\n",
    "# plt.plot(df12[\"true\"])\n",
    "# plt.plot(df12[\"pred\"])\n",
    "df12.describe()\n",
    "\n",
    "lists= []\n",
    "for i in df12[\"diff2\"]:\n",
    "    if i > -3:\n",
    "        lists.append(i)\n",
    "np.mean(np.abs(lists)) *100, len(lists)"
   ]
  },
  {
   "cell_type": "code",
   "execution_count": null,
   "metadata": {},
   "outputs": [],
   "source": []
  }
 ],
 "metadata": {
  "kernelspec": {
   "display_name": "Python 3",
   "language": "python",
   "name": "python3"
  },
  "language_info": {
   "codemirror_mode": {
    "name": "ipython",
    "version": 3
   },
   "file_extension": ".py",
   "mimetype": "text/x-python",
   "name": "python",
   "nbconvert_exporter": "python",
   "pygments_lexer": "ipython3",
   "version": "3.6.10"
  }
 },
 "nbformat": 4,
 "nbformat_minor": 2
}
