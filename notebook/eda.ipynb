{
 "cells": [
  {
   "cell_type": "code",
   "execution_count": 27,
   "metadata": {},
   "outputs": [
    {
     "data": {
      "text/plain": [
       "'C:\\\\Users\\\\wjdal\\\\OneDrive\\\\바탕 화면\\\\Prediction_Solar_generation\\\\서부한전_DATA_EDA_1'"
      ]
     },
     "execution_count": 27,
     "metadata": {},
     "output_type": "execute_result"
    }
   ],
   "source": [
    "import os\n",
    "os.getcwd()"
   ]
  },
  {
   "cell_type": "code",
   "execution_count": 1,
   "metadata": {},
   "outputs": [],
   "source": [
    "import csv\n",
    "import pandas as pd\n",
    "import matplotlib.pyplot as plt\n",
    "import numpy as np\n",
    "import seaborn as sns"
   ]
  },
  {
   "cell_type": "code",
   "execution_count": 2,
   "metadata": {},
   "outputs": [],
   "source": [
    "import warnings\n",
    "warnings.filterwarnings(action='ignore')\n",
    "\n",
    "import matplotlib as mpl\n",
    "mpl.rcParams['axes.unicode_minus'] = False\n",
    "\n",
    "from matplotlib import font_manager, rc\n",
    "font_name = font_manager.FontProperties(fname='c:/Windows/Fonts/malgun.ttf').get_name()\n",
    "rc('font', family=font_name)"
   ]
  },
  {
   "cell_type": "code",
   "execution_count": 3,
   "metadata": {},
   "outputs": [
    {
     "data": {
      "text/html": [
       "<div>\n",
       "<style scoped>\n",
       "    .dataframe tbody tr th:only-of-type {\n",
       "        vertical-align: middle;\n",
       "    }\n",
       "\n",
       "    .dataframe tbody tr th {\n",
       "        vertical-align: top;\n",
       "    }\n",
       "\n",
       "    .dataframe thead th {\n",
       "        text-align: right;\n",
       "    }\n",
       "</style>\n",
       "<table border=\"1\" class=\"dataframe\">\n",
       "  <thead>\n",
       "    <tr style=\"text-align: right;\">\n",
       "      <th></th>\n",
       "      <th>일자</th>\n",
       "      <th>발전기명</th>\n",
       "      <th>01시</th>\n",
       "      <th>02시</th>\n",
       "      <th>03시</th>\n",
       "      <th>04시</th>\n",
       "      <th>05시</th>\n",
       "      <th>06시</th>\n",
       "      <th>07시</th>\n",
       "      <th>08시</th>\n",
       "      <th>...</th>\n",
       "      <th>15시</th>\n",
       "      <th>16시</th>\n",
       "      <th>17시</th>\n",
       "      <th>18시</th>\n",
       "      <th>19시</th>\n",
       "      <th>20시</th>\n",
       "      <th>21시</th>\n",
       "      <th>22시</th>\n",
       "      <th>23시</th>\n",
       "      <th>24시</th>\n",
       "    </tr>\n",
       "  </thead>\n",
       "  <tbody>\n",
       "    <tr>\n",
       "      <th>0</th>\n",
       "      <td>2017-01-01</td>\n",
       "      <td>영암에프원태양광b</td>\n",
       "      <td>0.0</td>\n",
       "      <td>0.0</td>\n",
       "      <td>0.0</td>\n",
       "      <td>0.0</td>\n",
       "      <td>0.0</td>\n",
       "      <td>0.0</td>\n",
       "      <td>0.0</td>\n",
       "      <td>0.0</td>\n",
       "      <td>...</td>\n",
       "      <td>7344000.0</td>\n",
       "      <td>5155200.0</td>\n",
       "      <td>2131200.0</td>\n",
       "      <td>134400.0</td>\n",
       "      <td>0.0</td>\n",
       "      <td>0.0</td>\n",
       "      <td>0.0</td>\n",
       "      <td>0.0</td>\n",
       "      <td>0.0</td>\n",
       "      <td>0.0</td>\n",
       "    </tr>\n",
       "  </tbody>\n",
       "</table>\n",
       "<p>1 rows × 26 columns</p>\n",
       "</div>"
      ],
      "text/plain": [
       "           일자       발전기명  01시  02시  03시  04시  05시  06시  07시  08시  ...  \\\n",
       "0  2017-01-01  영암에프원태양광b  0.0  0.0  0.0  0.0  0.0  0.0  0.0  0.0  ...   \n",
       "\n",
       "         15시        16시        17시       18시  19시  20시  21시  22시  23시  24시  \n",
       "0  7344000.0  5155200.0  2131200.0  134400.0  0.0  0.0  0.0  0.0  0.0  0.0  \n",
       "\n",
       "[1 rows x 26 columns]"
      ]
     },
     "execution_count": 3,
     "metadata": {},
     "output_type": "execute_result"
    }
   ],
   "source": [
    "power_data = pd.read_csv('./DATA/한국서부발전(주)_태양광 발전 현황_20200927 (1).csv', encoding='euc-kr')\n",
    "power_data.head(1)"
   ]
  },
  {
   "cell_type": "code",
   "execution_count": 4,
   "metadata": {},
   "outputs": [],
   "source": [
    "power_data_영암 = power_data[power_data['발전기명']=='영암에프원태양광b']\n",
    "power_data_세종 = power_data[power_data['발전기명']=='세종시폐기물매립장태양광']\n",
    "power_data_안산 = power_data[power_data['발전기명']=='안산연성정수장태양광']"
   ]
  },
  {
   "cell_type": "code",
   "execution_count": 5,
   "metadata": {},
   "outputs": [],
   "source": [
    "# Transform Data\n",
    "def transform_data(pd):\n",
    "    power_time = list(pd.columns)[2:]\n",
    "    change_power_data = []\n",
    "    for i in range(pd.shape[0]):\n",
    "        target=[]\n",
    "        for j in range(26):\n",
    "            if j ==0:\n",
    "                date = pd.iloc[i,j]\n",
    "            elif (j!=0) & (j!=1):\n",
    "                target.append([date+\" \"+power_time[j-2],pd.iloc[i,j]])\n",
    "        change_power_data.append(target)\n",
    "\n",
    "    change_power_data_date = []\n",
    "    change_power_data_generation = []\n",
    "    for i in change_power_data:\n",
    "        for j in i:\n",
    "            change_power_data_date.append(j[0])\n",
    "            change_power_data_generation.append(j[1])\n",
    "    return change_power_data_date, change_power_data_generation\n"
   ]
  },
  {
   "cell_type": "code",
   "execution_count": 6,
   "metadata": {},
   "outputs": [],
   "source": [
    "transform_영암= transform_data(power_data_영암)\n",
    "transform_세종= transform_data(power_data_세종)\n",
    "transform_안산= transform_data(power_data_안산)"
   ]
  },
  {
   "cell_type": "code",
   "execution_count": 7,
   "metadata": {},
   "outputs": [],
   "source": [
    "# Extract data by year\n",
    "def extract_data_2017(transform_data):\n",
    "    total_power_generation = pd.DataFrame(data = transform_data[1], index=transform_data[0], columns=['generation'])\n",
    "    total_power_generation_2017 = total_power_generation.iloc[:8760,:]\n",
    "    return total_power_generation_2017\n",
    "\n",
    "def extract_data_2018(transform_data):\n",
    "    total_power_generation = pd.DataFrame(data = transform_data[1], index=transform_data[0], columns=['generation'])\n",
    "    total_power_generation_2018 = total_power_generation.iloc[8760:17520,:]\n",
    "    return total_power_generation_2018\n",
    "\n",
    "def extract_data_2019(transform_data):\n",
    "    total_power_generation = pd.DataFrame(data = transform_data[1], index=transform_data[0], columns=['generation'])\n",
    "    total_power_generation_2019= total_power_generation.iloc[17520:26280,:]\n",
    "    return total_power_generation_2019\n",
    "\n",
    "def extract_data_2020(transform_data):\n",
    "    total_power_generation = pd.DataFrame(data = transform_data[1], index=transform_data[0], columns=['generation'])\n",
    "    total_power_generation_2020 = total_power_generation.iloc[26280:,:]\n",
    "    return total_power_generation_2019"
   ]
  },
  {
   "cell_type": "code",
   "execution_count": 8,
   "metadata": {},
   "outputs": [],
   "source": [
    "# Categorized by three time zones => (09:00~09:59), (13:00~13:59), (17:00~17:59)\n",
    "def categorize_time(tranform_data):\n",
    "    target_datetime_generation=[]\n",
    "    for i,j in zip(tranform_data[0], tranform_data[1]):\n",
    "        date_time= i.split(\" \")\n",
    "        if (date_time[1] =='09시') | (date_time[1] =='13시') | (date_time[1] =='17시'):\n",
    "            target_datetime_generation.append([i,j])\n",
    "            \n",
    "    target_datetime_power_generation = pd.DataFrame(data=target_datetime_generation, columns=['date_time','generation'] )\n",
    "    \n",
    "    return target_datetime_power_generation"
   ]
  },
  {
   "cell_type": "code",
   "execution_count": 9,
   "metadata": {},
   "outputs": [],
   "source": [
    "categorize_영암 = categorize_time(transform_영암)\n",
    "categorize_세종 = categorize_time(transform_세종)\n",
    "categorize_안산 = categorize_time(transform_안산)"
   ]
  },
  {
   "cell_type": "markdown",
   "metadata": {},
   "source": [
    "##### 회귀모델을 위한 데이터 전처리 ( 세개의 시간대로만 분류)"
   ]
  },
  {
   "cell_type": "code",
   "execution_count": 11,
   "metadata": {},
   "outputs": [],
   "source": [
    "def divid_by_hour(categorize_data, spec_hours):\n",
    "    time_09h=[]\n",
    "    time_13h=[]\n",
    "    time_17h=[]\n",
    "    cnt=0\n",
    "    for i in categorize_data['date_time']:\n",
    "        date_time = i.split(\" \")\n",
    "        if date_time[1]=='09시':\n",
    "            time_09h.append([i,categorize_data['generation'][cnt]])\n",
    "        elif date_time[1]=='13시':\n",
    "            time_13h.append([i,categorize_data['generation'][cnt]])\n",
    "        elif date_time[1]=='17시':\n",
    "            time_17h.append([i,categorize_data['generation'][cnt]])\n",
    "        cnt+=1\n",
    "    \n",
    "    if spec_hours=='09시':\n",
    "        power_09h = pd.DataFrame(data=time_09h, columns=['date','generation'])\n",
    "        return power_09h\n",
    "    elif spec_hours=='13시':\n",
    "        power_13h = pd.DataFrame(data=time_13h, columns=['date','generation'])\n",
    "        return power_13h\n",
    "    elif spec_hours=='17시':\n",
    "        power_17h = pd.DataFrame(data=time_17h, columns=['date','generation'])\n",
    "        return power_17h"
   ]
  },
  {
   "cell_type": "code",
   "execution_count": 13,
   "metadata": {},
   "outputs": [],
   "source": [
    "total_09h_안산=divid_by_hour(categorize_안산,'09시')\n",
    "total_13h_안산=divid_by_hour(categorize_안산,'13시')\n",
    "total_17h_안산=divid_by_hour(categorize_안산,'17시')"
   ]
  },
  {
   "cell_type": "code",
   "execution_count": 18,
   "metadata": {},
   "outputs": [],
   "source": [
    "total_09h_세종=divid_by_hour(categorize_세종,'09시')\n",
    "total_13h_세종=divid_by_hour(categorize_세종,'13시')\n",
    "total_17h_세종=divid_by_hour(categorize_세종,'17시')"
   ]
  },
  {
   "cell_type": "code",
   "execution_count": 22,
   "metadata": {},
   "outputs": [],
   "source": [
    "total_09h_영암=divid_by_hour(categorize_영암,'09시')\n",
    "total_13h_영암=divid_by_hour(categorize_영암,'13시')\n",
    "total_17h_영암=divid_by_hour(categorize_영암,'17시')"
   ]
  },
  {
   "cell_type": "markdown",
   "metadata": {},
   "source": [
    "###### EDA를 위한 전처리"
   ]
  },
  {
   "cell_type": "code",
   "execution_count": null,
   "metadata": {},
   "outputs": [],
   "source": [
    "def divid_year_2017(categorize_data):\n",
    "    divid_2017  = categorize_data.iloc[:1095,:]\n",
    "    return divid_2017\n",
    "\n",
    "def divid_year_2018(categorize_data):\n",
    "    divid_2018  = categorize_data.iloc[1095:2190,:]\n",
    "    return divid_2018\n",
    "\n",
    "def divid_year_2019(categorize_data):\n",
    "    divid_2019  = categorize_data.iloc[2190:3285,:]\n",
    "    return divid_2019\n",
    "\n",
    "def divid_year_2020(categorize_data):\n",
    "    divid_2020  = categorize_data.iloc[3285:,:]\n",
    "    return divid_2020"
   ]
  },
  {
   "cell_type": "code",
   "execution_count": null,
   "metadata": {},
   "outputs": [],
   "source": [
    "divid_2017_영암= divid_year_2017(categorize_영암)\n",
    "divid_2018_영암= divid_year_2018(categorize_영암)\n",
    "divid_2019_영암= divid_year_2019(categorize_영암)"
   ]
  },
  {
   "cell_type": "code",
   "execution_count": null,
   "metadata": {},
   "outputs": [],
   "source": [
    "divid_2017_세종= divid_year_2017(categorize_세종)\n",
    "divid_2018_세종= divid_year_2018(categorize_세종)\n",
    "divid_2019_세종= divid_year_2019(categorize_세종)"
   ]
  },
  {
   "cell_type": "code",
   "execution_count": null,
   "metadata": {},
   "outputs": [],
   "source": [
    "divid_2017_안산= divid_year_2017(categorize_안산)\n",
    "divid_2018_안산= divid_year_2018(categorize_안산)\n",
    "divid_2019_안산= divid_year_2019(categorize_안산)"
   ]
  },
  {
   "cell_type": "code",
   "execution_count": null,
   "metadata": {},
   "outputs": [],
   "source": [
    "generation_in_time = ['09시','10시','11시','12시','13시','14시','15시','16시','17시','18시'] \n",
    "def slice_time(tranform_data, generation_in_time):\n",
    "    target_datetime_generation=[]\n",
    "    for i,j in zip(tranform_data[0], tranform_data[1]):\n",
    "        date_time= i.split(\" \")\n",
    "        if date_time[1] in generation_in_time:\n",
    "            target_datetime_generation.append([i,j])\n",
    "            \n",
    "    target_datetime_power_generation = pd.DataFrame(data=target_datetime_generation, columns=['date_time','generation'] )\n",
    "    \n",
    "    return target_datetime_power_generation"
   ]
  },
  {
   "cell_type": "code",
   "execution_count": null,
   "metadata": {},
   "outputs": [],
   "source": [
    "slice_영암 = slice_time(transform_영암, generation_in_time)\n",
    "slice_세종 = slice_time(transform_세종, generation_in_time)\n",
    "slice_안산 = slice_time(transform_안산, generation_in_time)"
   ]
  },
  {
   "cell_type": "code",
   "execution_count": null,
   "metadata": {},
   "outputs": [],
   "source": [
    "def slice_year_2017(slice_data):\n",
    "    slice_2017  = slice_data.iloc[:3650,:]\n",
    "    return slice_2017\n",
    "\n",
    "def slice_year_2018(slice_data):\n",
    "    slice_2018  = slice_data.iloc[3650:7300,:]\n",
    "    return slice_2018\n",
    "\n",
    "def slice_year_2019(slice_data):\n",
    "    slice_2019  = slice_data.iloc[7300:10950,:]\n",
    "    return slice_2019\n",
    "\n",
    "def slice_year_2020(slice_data):\n",
    "    slice_2020  = slice_data.iloc[10950:,:]\n",
    "    return slice_2020"
   ]
  },
  {
   "cell_type": "code",
   "execution_count": null,
   "metadata": {},
   "outputs": [],
   "source": [
    "slice_2017_영암= slice_year_2017(slice_영암)\n",
    "slice_2017_영암=slice_2017_영암.reset_index()\n",
    "slice_2017_영암 = slice_2017_영암.drop(['index','date_time'], axis=1)\n",
    "\n",
    "slice_2018_영암= slice_year_2018(slice_영암)\n",
    "slice_2018_영암= slice_2018_영암.reset_index()\n",
    "slice_2018_영암 = slice_2018_영암.drop(['index','date_time'], axis=1)\n",
    "\n",
    "slice_2019_영암= slice_year_2019(slice_영암)\n",
    "slice_2019_영암= slice_2019_영암.reset_index()\n",
    "slice_2019_영암 = slice_2019_영암.drop(['index','date_time'], axis=1)\n",
    "\n",
    "slice_2020_영암= slice_year_2020(slice_영암)\n",
    "slice_2020_영암 = slice_2020_영암.reset_index()\n",
    "slice_2020_영암 = slice_2020_영암.drop(['index','date_time'], axis=1)\n"
   ]
  },
  {
   "cell_type": "code",
   "execution_count": null,
   "metadata": {},
   "outputs": [],
   "source": [
    "# 3개년 발전량의 일별 시간대별 평균값\n",
    "generation_mean_영암 = (slice_2017_영암+slice_2018_영암+slice_2019_영암)/3\n",
    "# generation_mean_영암"
   ]
  },
  {
   "cell_type": "code",
   "execution_count": null,
   "metadata": {},
   "outputs": [],
   "source": [
    "# 3개년의 중앙값으로 발전량 정렬\n",
    "median=[]\n",
    "for i, j, k in zip(slice_2017_영암['generation'], slice_2018_영암['generation'], slice_2019_영암['generation']):\n",
    "    lists =[]\n",
    "    lists.append(i)\n",
    "    lists.append(j)\n",
    "    lists.append(k)\n",
    "    lists = sorted(lists)\n",
    "    median.append(lists[1])\n",
    "\n",
    "generation_median_영암 = pd.DataFrame(data = median, columns=['generation'])\n",
    "# generation_median_영암"
   ]
  },
  {
   "cell_type": "markdown",
   "metadata": {},
   "source": [
    "### 기상 변수에 대한 설명\n",
    "#####  일조(hr)\t: 태양광선이 구름이나 안개등에 의해서 차단되지 않고 지표면을 비춘시간, 시의 단위로써 표시하며 10분위까지의 값으로 표현\n",
    "##### 일사(MJ/m2)(일사량) : 일사의 세기로 태양으로부터 지구로 복사되는 에너지를 일사라 한다. 일사량의 측정은 태양광선의 진행방향에 직각인 1cm2의 넓이에 1분 동안 복사된 양으로 측정한다.\n",
    "##### 전운량(10분위) : 전운량은 운량과 같은뜻으로 하늘을 덮고 있는 구름의 양의 비율, 하늘 전체(눈에 보이는 범위)의 몇 %쯤이 구름으로 덮여 있는지에 따라 0부터 10까지의 계급으로 나눈다\n",
    "##### 풍향(16방위) : 풍향은 바람이 불어오는 방향으로 나타내며 보통 16방위를 사용, 16방위는 360도의 원판을 22.5도 간격으로 16등분"
   ]
  },
  {
   "cell_type": "markdown",
   "metadata": {},
   "source": [
    "#### 세 시간대별, 발전소별 전체 날씨 데이터 정렬"
   ]
  },
  {
   "cell_type": "code",
   "execution_count": 28,
   "metadata": {},
   "outputs": [],
   "source": [
    "wea_2017 = pd.read_csv('./DATA/서부발전_2017.csv', encoding='euc-kr')\n",
    "wea_2018 = pd.read_csv('./DATA/서부발전_2018.csv', encoding='euc-kr')\n",
    "wea_2019 = pd.read_csv('./DATA/서부발전_2019.csv', encoding='euc-kr')\n",
    "wea_2020 = pd.read_csv('./DATA/서부발전_2020.csv', encoding='euc-kr')"
   ]
  },
  {
   "cell_type": "code",
   "execution_count": 57,
   "metadata": {},
   "outputs": [],
   "source": [
    "wea_2017_안산=wea_2017[wea_2017['지점명']=='수원'] \n",
    "wea_2018_안산=wea_2018[wea_2018['지점명']=='수원'] \n",
    "wea_2019_안산=wea_2019[wea_2019['지점명']=='수원']\n",
    "wea_2020_안산=wea_2020[wea_2020['지점명']=='수원'] "
   ]
  },
  {
   "cell_type": "code",
   "execution_count": 58,
   "metadata": {},
   "outputs": [],
   "source": [
    "wea_2017_영암=wea_2017[wea_2017['지점명']=='목포'] \n",
    "wea_2018_영암=wea_2018[wea_2018['지점명']=='목포'] \n",
    "wea_2019_영암=wea_2019[wea_2019['지점명']=='목포']\n",
    "wea_2020_영암=wea_2020[wea_2020['지점명']=='목포'] "
   ]
  },
  {
   "cell_type": "code",
   "execution_count": 59,
   "metadata": {},
   "outputs": [],
   "source": [
    "wea_2017_세종=wea_2017[wea_2017['지점명']=='대전'] \n",
    "wea_2018_세종=wea_2018[wea_2018['지점명']=='대전'] \n",
    "wea_2019_세종=wea_2019[wea_2019['지점명']=='대전']\n",
    "wea_2020_세종=wea_2020[wea_2020['지점명']=='대전'] "
   ]
  },
  {
   "cell_type": "code",
   "execution_count": 60,
   "metadata": {
    "scrolled": true
   },
   "outputs": [],
   "source": [
    "frame_안산=[wea_2017_안산,wea_2018_안산,wea_2019_안산,wea_2020_안산]\n",
    "total_weather_안산 = pd.concat(frame)"
   ]
  },
  {
   "cell_type": "code",
   "execution_count": 63,
   "metadata": {},
   "outputs": [],
   "source": [
    "frame_영암=[wea_2017_영암,wea_2018_영암,wea_2019_영암,wea_2020_영암]\n",
    "total_weather_영암 = pd.concat(frame)"
   ]
  },
  {
   "cell_type": "code",
   "execution_count": 62,
   "metadata": {},
   "outputs": [],
   "source": [
    "frame_세종=[wea_2017_세종,wea_2018_세종,wea_2019_세종,wea_2020_세종]\n",
    "total_weather_세종 = pd.concat(frame)"
   ]
  },
  {
   "cell_type": "code",
   "execution_count": 51,
   "metadata": {},
   "outputs": [],
   "source": [
    "def dividup_by_hour(concat_data, spec_hours):\n",
    "    time_09h=[]\n",
    "    time_13h=[]\n",
    "    time_17h=[]\n",
    "    cnt=0\n",
    "    for i in concat_data['일시']:\n",
    "        date_time = i.split(\" \")\n",
    "        if date_time[1]=='09:00':\n",
    "            time_09h.append(list(concat_data.iloc[cnt,3:]))\n",
    "        elif date_time[1]=='13:00':\n",
    "            time_13h.append(list(concat_data.iloc[cnt,3:]))\n",
    "        elif date_time[1]=='17:00':\n",
    "            time_17h.append(list(concat_data.iloc[cnt,3:]))\n",
    "        cnt+=1\n",
    "    \n",
    "    if spec_hours=='09시':\n",
    "        power_09h = pd.DataFrame(data=time_09h, columns=['기온(°C)', '강수량(mm)', '풍속(m/s)', '풍향(16방위)', '습도(%)', '일조(hr)',\n",
    "       '일사(MJ/m2)', '전운량(10분위)', '운형(운형약어)', '지면온도(°C)'])\n",
    "        return power_09h\n",
    "    elif spec_hours=='13시':\n",
    "        power_13h = pd.DataFrame(data=time_13h, columns=['기온(°C)', '강수량(mm)', '풍속(m/s)', '풍향(16방위)', '습도(%)', '일조(hr)',\n",
    "       '일사(MJ/m2)', '전운량(10분위)', '운형(운형약어)', '지면온도(°C)'])\n",
    "        return power_13h\n",
    "    elif spec_hours=='17시':\n",
    "        power_17h = pd.DataFrame(data=time_17h, columns=['기온(°C)', '강수량(mm)', '풍속(m/s)', '풍향(16방위)', '습도(%)', '일조(hr)',\n",
    "       '일사(MJ/m2)', '전운량(10분위)', '운형(운형약어)', '지면온도(°C)'])\n",
    "        return power_17h\n"
   ]
  },
  {
   "cell_type": "code",
   "execution_count": 64,
   "metadata": {},
   "outputs": [],
   "source": [
    "total_weather_data_09h_안산= dividup_by_hour(total_weather_안산, '09시').drop(['운형(운형약어)','풍향(16방위)'],axis=1).fillna(0)\n",
    "total_weather_data_13h_안산= dividup_by_hour(total_weather_안산, '09시').drop(['운형(운형약어)','풍향(16방위)'],axis=1).fillna(0)\n",
    "total_weather_data_17h_안산= dividup_by_hour(total_weather_안산, '09시').drop(['운형(운형약어)','풍향(16방위)'],axis=1).fillna(0)"
   ]
  },
  {
   "cell_type": "code",
   "execution_count": 65,
   "metadata": {},
   "outputs": [],
   "source": [
    "total_weather_data_09h_세종= dividup_by_hour(total_weather_세종, '09시').drop(['운형(운형약어)','풍향(16방위)'],axis=1).fillna(0)\n",
    "total_weather_data_13h_세종= dividup_by_hour(total_weather_세종, '09시').drop(['운형(운형약어)','풍향(16방위)'],axis=1).fillna(0)\n",
    "total_weather_data_17h_세종= dividup_by_hour(total_weather_세종, '09시').drop(['운형(운형약어)','풍향(16방위)'],axis=1).fillna(0)"
   ]
  },
  {
   "cell_type": "code",
   "execution_count": 66,
   "metadata": {},
   "outputs": [],
   "source": [
    "total_weather_data_09h_영암= dividup_by_hour(total_weather_영암, '09시').drop(['운형(운형약어)','풍향(16방위)'],axis=1).fillna(0)\n",
    "total_weather_data_13h_영암= dividup_by_hour(total_weather_영암, '09시').drop(['운형(운형약어)','풍향(16방위)'],axis=1).fillna(0)\n",
    "total_weather_data_17h_영암= dividup_by_hour(total_weather_영암, '09시').drop(['운형(운형약어)','풍향(16방위)'],axis=1).fillna(0)"
   ]
  },
  {
   "cell_type": "markdown",
   "metadata": {},
   "source": [
    "#### 날씨 데이터 + 발전량 데이터"
   ]
  },
  {
   "cell_type": "code",
   "execution_count": 67,
   "metadata": {},
   "outputs": [
    {
     "data": {
      "text/html": [
       "<div>\n",
       "<style scoped>\n",
       "    .dataframe tbody tr th:only-of-type {\n",
       "        vertical-align: middle;\n",
       "    }\n",
       "\n",
       "    .dataframe tbody tr th {\n",
       "        vertical-align: top;\n",
       "    }\n",
       "\n",
       "    .dataframe thead th {\n",
       "        text-align: right;\n",
       "    }\n",
       "</style>\n",
       "<table border=\"1\" class=\"dataframe\">\n",
       "  <thead>\n",
       "    <tr style=\"text-align: right;\">\n",
       "      <th></th>\n",
       "      <th>기온(°C)</th>\n",
       "      <th>강수량(mm)</th>\n",
       "      <th>풍속(m/s)</th>\n",
       "      <th>습도(%)</th>\n",
       "      <th>일조(hr)</th>\n",
       "      <th>일사(MJ/m2)</th>\n",
       "      <th>전운량(10분위)</th>\n",
       "      <th>지면온도(°C)</th>\n",
       "    </tr>\n",
       "  </thead>\n",
       "  <tbody>\n",
       "    <tr>\n",
       "      <th>0</th>\n",
       "      <td>-0.2</td>\n",
       "      <td>0.0</td>\n",
       "      <td>0.3</td>\n",
       "      <td>100.0</td>\n",
       "      <td>0.0</td>\n",
       "      <td>0.09</td>\n",
       "      <td>9.0</td>\n",
       "      <td>-0.4</td>\n",
       "    </tr>\n",
       "    <tr>\n",
       "      <th>1</th>\n",
       "      <td>4.1</td>\n",
       "      <td>0.6</td>\n",
       "      <td>1.1</td>\n",
       "      <td>97.0</td>\n",
       "      <td>0.0</td>\n",
       "      <td>0.03</td>\n",
       "      <td>9.0</td>\n",
       "      <td>0.7</td>\n",
       "    </tr>\n",
       "    <tr>\n",
       "      <th>2</th>\n",
       "      <td>-0.1</td>\n",
       "      <td>0.0</td>\n",
       "      <td>0.5</td>\n",
       "      <td>86.0</td>\n",
       "      <td>0.6</td>\n",
       "      <td>0.19</td>\n",
       "      <td>0.0</td>\n",
       "      <td>-0.4</td>\n",
       "    </tr>\n",
       "    <tr>\n",
       "      <th>3</th>\n",
       "      <td>1.7</td>\n",
       "      <td>0.0</td>\n",
       "      <td>0.1</td>\n",
       "      <td>100.0</td>\n",
       "      <td>0.0</td>\n",
       "      <td>0.15</td>\n",
       "      <td>0.0</td>\n",
       "      <td>-0.1</td>\n",
       "    </tr>\n",
       "    <tr>\n",
       "      <th>4</th>\n",
       "      <td>1.6</td>\n",
       "      <td>0.0</td>\n",
       "      <td>0.2</td>\n",
       "      <td>77.0</td>\n",
       "      <td>0.0</td>\n",
       "      <td>0.12</td>\n",
       "      <td>8.0</td>\n",
       "      <td>-0.2</td>\n",
       "    </tr>\n",
       "    <tr>\n",
       "      <th>...</th>\n",
       "      <td>...</td>\n",
       "      <td>...</td>\n",
       "      <td>...</td>\n",
       "      <td>...</td>\n",
       "      <td>...</td>\n",
       "      <td>...</td>\n",
       "      <td>...</td>\n",
       "      <td>...</td>\n",
       "    </tr>\n",
       "    <tr>\n",
       "      <th>1272</th>\n",
       "      <td>20.3</td>\n",
       "      <td>0.0</td>\n",
       "      <td>2.3</td>\n",
       "      <td>97.0</td>\n",
       "      <td>0.0</td>\n",
       "      <td>0.23</td>\n",
       "      <td>10.0</td>\n",
       "      <td>21.4</td>\n",
       "    </tr>\n",
       "    <tr>\n",
       "      <th>1273</th>\n",
       "      <td>23.2</td>\n",
       "      <td>0.0</td>\n",
       "      <td>1.0</td>\n",
       "      <td>74.0</td>\n",
       "      <td>0.0</td>\n",
       "      <td>0.88</td>\n",
       "      <td>10.0</td>\n",
       "      <td>25.5</td>\n",
       "    </tr>\n",
       "    <tr>\n",
       "      <th>1274</th>\n",
       "      <td>23.6</td>\n",
       "      <td>0.0</td>\n",
       "      <td>2.2</td>\n",
       "      <td>85.0</td>\n",
       "      <td>0.5</td>\n",
       "      <td>1.08</td>\n",
       "      <td>7.0</td>\n",
       "      <td>26.8</td>\n",
       "    </tr>\n",
       "    <tr>\n",
       "      <th>1275</th>\n",
       "      <td>24.6</td>\n",
       "      <td>0.0</td>\n",
       "      <td>2.1</td>\n",
       "      <td>74.0</td>\n",
       "      <td>0.5</td>\n",
       "      <td>1.28</td>\n",
       "      <td>9.0</td>\n",
       "      <td>27.3</td>\n",
       "    </tr>\n",
       "    <tr>\n",
       "      <th>1276</th>\n",
       "      <td>19.9</td>\n",
       "      <td>0.4</td>\n",
       "      <td>2.6</td>\n",
       "      <td>98.0</td>\n",
       "      <td>0.0</td>\n",
       "      <td>0.45</td>\n",
       "      <td>10.0</td>\n",
       "      <td>21.6</td>\n",
       "    </tr>\n",
       "  </tbody>\n",
       "</table>\n",
       "<p>1277 rows × 8 columns</p>\n",
       "</div>"
      ],
      "text/plain": [
       "      기온(°C)  강수량(mm)  풍속(m/s)  습도(%)  일조(hr)  일사(MJ/m2)  전운량(10분위)  지면온도(°C)\n",
       "0       -0.2      0.0      0.3  100.0     0.0       0.09        9.0      -0.4\n",
       "1        4.1      0.6      1.1   97.0     0.0       0.03        9.0       0.7\n",
       "2       -0.1      0.0      0.5   86.0     0.6       0.19        0.0      -0.4\n",
       "3        1.7      0.0      0.1  100.0     0.0       0.15        0.0      -0.1\n",
       "4        1.6      0.0      0.2   77.0     0.0       0.12        8.0      -0.2\n",
       "...      ...      ...      ...    ...     ...        ...        ...       ...\n",
       "1272    20.3      0.0      2.3   97.0     0.0       0.23       10.0      21.4\n",
       "1273    23.2      0.0      1.0   74.0     0.0       0.88       10.0      25.5\n",
       "1274    23.6      0.0      2.2   85.0     0.5       1.08        7.0      26.8\n",
       "1275    24.6      0.0      2.1   74.0     0.5       1.28        9.0      27.3\n",
       "1276    19.9      0.4      2.6   98.0     0.0       0.45       10.0      21.6\n",
       "\n",
       "[1277 rows x 8 columns]"
      ]
     },
     "execution_count": 67,
     "metadata": {},
     "output_type": "execute_result"
    }
   ],
   "source": [
    "total_weather_data_09h_안산"
   ]
  },
  {
   "cell_type": "code",
   "execution_count": 68,
   "metadata": {},
   "outputs": [
    {
     "data": {
      "text/html": [
       "<div>\n",
       "<style scoped>\n",
       "    .dataframe tbody tr th:only-of-type {\n",
       "        vertical-align: middle;\n",
       "    }\n",
       "\n",
       "    .dataframe tbody tr th {\n",
       "        vertical-align: top;\n",
       "    }\n",
       "\n",
       "    .dataframe thead th {\n",
       "        text-align: right;\n",
       "    }\n",
       "</style>\n",
       "<table border=\"1\" class=\"dataframe\">\n",
       "  <thead>\n",
       "    <tr style=\"text-align: right;\">\n",
       "      <th></th>\n",
       "      <th>date</th>\n",
       "      <th>generation</th>\n",
       "    </tr>\n",
       "  </thead>\n",
       "  <tbody>\n",
       "    <tr>\n",
       "      <th>0</th>\n",
       "      <td>2017-01-01 09시</td>\n",
       "      <td>22800.0</td>\n",
       "    </tr>\n",
       "    <tr>\n",
       "      <th>1</th>\n",
       "      <td>2017-01-02 09시</td>\n",
       "      <td>8400.0</td>\n",
       "    </tr>\n",
       "    <tr>\n",
       "      <th>2</th>\n",
       "      <td>2017-01-03 09시</td>\n",
       "      <td>34800.0</td>\n",
       "    </tr>\n",
       "    <tr>\n",
       "      <th>3</th>\n",
       "      <td>2017-01-04 09시</td>\n",
       "      <td>32400.0</td>\n",
       "    </tr>\n",
       "    <tr>\n",
       "      <th>4</th>\n",
       "      <td>2017-01-05 09시</td>\n",
       "      <td>24000.0</td>\n",
       "    </tr>\n",
       "    <tr>\n",
       "      <th>...</th>\n",
       "      <td>...</td>\n",
       "      <td>...</td>\n",
       "    </tr>\n",
       "    <tr>\n",
       "      <th>1272</th>\n",
       "      <td>2020-06-26 09시</td>\n",
       "      <td>44400.0</td>\n",
       "    </tr>\n",
       "    <tr>\n",
       "      <th>1273</th>\n",
       "      <td>2020-06-27 09시</td>\n",
       "      <td>214800.0</td>\n",
       "    </tr>\n",
       "    <tr>\n",
       "      <th>1274</th>\n",
       "      <td>2020-06-28 09시</td>\n",
       "      <td>488400.0</td>\n",
       "    </tr>\n",
       "    <tr>\n",
       "      <th>1275</th>\n",
       "      <td>2020-06-29 09시</td>\n",
       "      <td>549600.0</td>\n",
       "    </tr>\n",
       "    <tr>\n",
       "      <th>1276</th>\n",
       "      <td>2020-06-30 09시</td>\n",
       "      <td>96000.0</td>\n",
       "    </tr>\n",
       "  </tbody>\n",
       "</table>\n",
       "<p>1277 rows × 2 columns</p>\n",
       "</div>"
      ],
      "text/plain": [
       "                date  generation\n",
       "0     2017-01-01 09시     22800.0\n",
       "1     2017-01-02 09시      8400.0\n",
       "2     2017-01-03 09시     34800.0\n",
       "3     2017-01-04 09시     32400.0\n",
       "4     2017-01-05 09시     24000.0\n",
       "...              ...         ...\n",
       "1272  2020-06-26 09시     44400.0\n",
       "1273  2020-06-27 09시    214800.0\n",
       "1274  2020-06-28 09시    488400.0\n",
       "1275  2020-06-29 09시    549600.0\n",
       "1276  2020-06-30 09시     96000.0\n",
       "\n",
       "[1277 rows x 2 columns]"
      ]
     },
     "execution_count": 68,
     "metadata": {},
     "output_type": "execute_result"
    }
   ],
   "source": [
    "total_09h_안산"
   ]
  },
  {
   "cell_type": "code",
   "execution_count": 74,
   "metadata": {},
   "outputs": [],
   "source": [
    "total_weather_data_09h_안산['발전량'] = total_09h_안산['generation']\n",
    "total_09h_power_weather_안산 = total_weather_data_09h_안산\n",
    "\n",
    "total_weather_data_13h_안산['발전량'] = total_13h_안산['generation']\n",
    "total_13h_power_weather_안산 = total_weather_data_13h_안산\n",
    "\n",
    "total_weather_data_17h_안산['발전량'] = total_17h_안산['generation']\n",
    "total_17h_power_weather_안산 = total_weather_data_17h_안산"
   ]
  },
  {
   "cell_type": "code",
   "execution_count": 75,
   "metadata": {},
   "outputs": [],
   "source": [
    "total_weather_data_09h_세종['발전량'] = total_09h_세종['generation']\n",
    "total_09h_power_weather_세종 = total_weather_data_09h_세종\n",
    "\n",
    "total_weather_data_13h_세종['발전량'] = total_13h_세종['generation']\n",
    "total_13h_power_weather_세종 = total_weather_data_13h_세종\n",
    "\n",
    "total_weather_data_17h_세종['발전량'] = total_17h_세종['generation']\n",
    "total_17h_power_weather_세종 = total_weather_data_17h_세종"
   ]
  },
  {
   "cell_type": "code",
   "execution_count": 76,
   "metadata": {},
   "outputs": [],
   "source": [
    "total_weather_data_09h_영암['발전량'] = total_09h_영암['generation']\n",
    "total_09h_power_weather_영암 = total_weather_data_09h_영암\n",
    "\n",
    "total_weather_data_13h_영암['발전량'] = total_13h_영암['generation']\n",
    "total_13h_power_weather_영암 = total_weather_data_13h_영암\n",
    "\n",
    "total_weather_data_17h_영암['발전량'] = total_17h_영암['generation']\n",
    "total_17h_power_weather_영암 = total_weather_data_17h_영암"
   ]
  },
  {
   "cell_type": "code",
   "execution_count": 91,
   "metadata": {},
   "outputs": [],
   "source": [
    "total_09h_power_weather_안산.to_csv('total_09h_power_weather_안산.csv')\n",
    "total_13h_power_weather_안산.to_csv('total_13h_power_weather_안산.csv')\n",
    "total_17h_power_weather_안산.to_csv('total_17h_power_weather_안산.csv')"
   ]
  },
  {
   "cell_type": "code",
   "execution_count": null,
   "metadata": {},
   "outputs": [],
   "source": [
    "total_09h_power_weather_세종.to_csv('total_09h_power_weather_세종.csv')\n",
    "total_13h_power_weather_세종.to_csv('total_13h_power_weather_세종.csv')\n",
    "total_17h_power_weather_세종.to_csv('total_17h_power_weather_세종.csv')"
   ]
  },
  {
   "cell_type": "code",
   "execution_count": null,
   "metadata": {},
   "outputs": [],
   "source": [
    "total_09h_power_weather_영암.to_csv('total_09h_power_weather_영암.csv')\n",
    "total_13h_power_weather_영암.to_csv('total_13h_power_weather_영암.csv')\n",
    "total_17h_power_weather_영암.to_csv('total_17h_power_weather_영암.csv')"
   ]
  },
  {
   "cell_type": "markdown",
   "metadata": {},
   "source": [
    "---------------------------------------------------------------------------------------"
   ]
  },
  {
   "cell_type": "code",
   "execution_count": 29,
   "metadata": {},
   "outputs": [],
   "source": [
    "# Categorized as a specific area in a particular year\n",
    "\n",
    "def classification_area_year(weather_data, area_name):\n",
    "    if area_name=='영암':\n",
    "        weather= weather_data[weather_data['지점명']=='목포'].iloc[:,2:]\n",
    "        return weather\n",
    "    elif area_name=='세종':\n",
    "        weather= weather_data[weather_data['지점명']=='대전'].iloc[:,2:]\n",
    "        return weather\n",
    "    elif area_name=='안산':\n",
    "        weather= weather_data[weather_data['지점명']=='수원'].iloc[:,2:]\n",
    "        return weather"
   ]
  },
  {
   "cell_type": "code",
   "execution_count": 31,
   "metadata": {},
   "outputs": [],
   "source": [
    "wea_2017_영암= classification_area_year(wea_2017, '영암')\n",
    "wea_2018_영암= classification_area_year(wea_2018, '영암')\n",
    "wea_2019_영암= classification_area_year(wea_2019, '영암')"
   ]
  },
  {
   "cell_type": "code",
   "execution_count": null,
   "metadata": {},
   "outputs": [],
   "source": [
    "wea_2017_세종= classification_area_year(wea_2017, '세종')\n",
    "wea_2018_세종= classification_area_year(wea_2018, '세종')\n",
    "wea_2019_세종= classification_area_year(wea_2019, '세종')"
   ]
  },
  {
   "cell_type": "code",
   "execution_count": null,
   "metadata": {},
   "outputs": [],
   "source": [
    "wea_2017_안산= classification_area_year(wea_2017, '안산')\n",
    "wea_2018_안산= classification_area_year(wea_2018, '안산')\n",
    "wea_2019_안산= classification_area_year(wea_2019, '안산')"
   ]
  },
  {
   "cell_type": "code",
   "execution_count": null,
   "metadata": {},
   "outputs": [],
   "source": [
    "# Categorized by three time zones => (09:00~09:59), (13:00~13:59), (17:00~17:59)\n",
    "# and conbine power data, weather data\n",
    "def conbine_power_weather(specific_weather, divid_data):\n",
    "    target_datetime_weather=[]\n",
    "    cnt=1\n",
    "    for i in specific_weather['일시']:\n",
    "        date_time= i.split(\" \")\n",
    "        if (date_time[1] =='09:00') | (date_time[1] =='13:00') | (date_time[1] =='17:00'):\n",
    "            data= list(specific_weather.iloc[cnt,1:])\n",
    "            target_datetime_weather.append(data)\n",
    "        cnt+=1\n",
    "        \n",
    "    conbined =[]\n",
    "    for i, j in zip(target_datetime_weather, list(divid_data['generation'])):\n",
    "        i.append(j)\n",
    "        conbined.append(i)\n",
    "        \n",
    "    power_weather = pd.DataFrame(data=conbined, index=divid_data['date_time'], columns=['기온(°C)', '강수량(mm)', '풍속(m/s)', '풍향(16방위)', '습도(%)', '일조(hr)',\n",
    "       '일사(MJ/m2)', '전운량(10분위)', '운형(운형약어)', '지면온도(°C)', '발전량'])\n",
    "\n",
    "    return power_weather"
   ]
  },
  {
   "cell_type": "code",
   "execution_count": null,
   "metadata": {},
   "outputs": [],
   "source": [
    "power_weather_2017_영암 = conbine_power_weather(wea_2017_영암, divid_2017_영암)\n",
    "power_weather_2018_영암 = conbine_power_weather(wea_2018_영암, divid_2018_영암)\n",
    "power_weather_2019_영암 = conbine_power_weather(wea_2019_영암, divid_2019_영암)"
   ]
  },
  {
   "cell_type": "code",
   "execution_count": null,
   "metadata": {},
   "outputs": [],
   "source": [
    "power_weather_2017_세종 = conbine_power_weather(wea_2017_세종, divid_2017_세종)\n",
    "power_weather_2018_세종 = conbine_power_weather(wea_2018_세종, divid_2018_세종)\n",
    "power_weather_2019_세종 = conbine_power_weather(wea_2019_세종, divid_2019_세종)"
   ]
  },
  {
   "cell_type": "code",
   "execution_count": null,
   "metadata": {},
   "outputs": [],
   "source": [
    "power_weather_2017_안산 = conbine_power_weather(wea_2017_안산, divid_2017_안산)\n",
    "power_weather_2018_안산 = conbine_power_weather(wea_2018_안산, divid_2018_안산)\n",
    "power_weather_2019_안산 = conbine_power_weather(wea_2019_안산, divid_2019_안산)"
   ]
  },
  {
   "cell_type": "code",
   "execution_count": null,
   "metadata": {},
   "outputs": [],
   "source": [
    "# # 기온\n",
    "# fig, ax = plt.subplots(figsize=(8,5))\n",
    "\n",
    "# ax.plot(power_weather_2017_영암.index, power_weather_2017_영암['기온(°C)'], color='b')\n",
    "# ax.set_title('2017 Weather : temperature')"
   ]
  },
  {
   "cell_type": "code",
   "execution_count": null,
   "metadata": {},
   "outputs": [],
   "source": [
    "# # 일사\n",
    "# fig, ax = plt.subplots(figsize=(8,5))\n",
    "\n",
    "# ax.plot(power_weather_2017_영암.index, power_weather_2017_영암['일사(MJ/m2)'], color='b')\n",
    "# ax.set_title('2017 Weather : Solar Radiation')"
   ]
  },
  {
   "cell_type": "code",
   "execution_count": null,
   "metadata": {},
   "outputs": [],
   "source": [
    "# # 전운량\n",
    "# fig, ax = plt.subplots(figsize=(8,5))\n",
    "\n",
    "# ax.plot(power_weather_2017_영암.index, power_weather_2017_영암['전운량(10분위)'], color='b')\n",
    "# ax.set_title('2017 Weather : Clouds')"
   ]
  },
  {
   "cell_type": "code",
   "execution_count": null,
   "metadata": {},
   "outputs": [],
   "source": [
    "# sns.pairplot(power_weather_2017_영암, x_vars=['일시', '기온(°C)', '강수량(mm)', '풍속(m/s)', '풍향(16방위)', '습도(%)'],y_vars=['발전량'])\n",
    "\n",
    "# sns.pairplot(power_weather_2017_영암, x_vars=['일시', '일조(hr)', '일사(MJ/m2)', '전운량(10분위)', '지면온도(°C)'] ,y_vars=['발전량'])\n"
   ]
  },
  {
   "cell_type": "code",
   "execution_count": null,
   "metadata": {},
   "outputs": [],
   "source": [
    "# # 태양광 발전과 일사량사이의 상관관계\n",
    "# sns.jointplot(x='일사(MJ/m2)', y='발전량', data=power_weather_2017_영암, kind='reg')"
   ]
  },
  {
   "cell_type": "code",
   "execution_count": null,
   "metadata": {},
   "outputs": [],
   "source": [
    "# 태양광 발전과 습도사이의 상관관계\n",
    "# sns.jointplot(x='습도(%)', y='발전량', data=power_weather_2017_영암, kind='reg')"
   ]
  },
  {
   "cell_type": "code",
   "execution_count": null,
   "metadata": {},
   "outputs": [],
   "source": [
    "# Distinguish between three hours\n",
    "# parameter : Amount of power generation and weather information in a specific area in a specific year \n",
    "# ex) power_weather_2017_영암\n",
    "def distinguish_hours(spec_data, spec_hours):\n",
    "    power_weather_09h_list =[]\n",
    "    power_weather_13h_list =[]\n",
    "    power_weather_17h_list =[]\n",
    "\n",
    "    date_lists=list(spec_data.index)\n",
    "    date_09h=[]\n",
    "    date_13h=[]\n",
    "    date_17h=[]\n",
    "    for i in range(spec_data.shape[0]):\n",
    "        if i%3==0:\n",
    "            power_weather_09h_list.append(list(spec_data.iloc[i,:]))\n",
    "            date_09h.append(date_lists[i])\n",
    "        elif i%3==1:\n",
    "            power_weather_13h_list.append(list(spec_data.iloc[i,:]))\n",
    "            date_13h.append(date_lists[i])\n",
    "        elif i%3==2:\n",
    "            power_weather_17h_list.append(list(spec_data.iloc[i,:])) \n",
    "            date_17h.append(date_lists[i])\n",
    "            \n",
    "    if spec_hours =='9시':\n",
    "        power_weather_09h = pd.DataFrame(power_weather_09h_list,index=date_09h, columns=['기온(°C)', '강수량(mm)', '풍속(m/s)', '풍향(16방위)', '습도(%)', '일조(hr)',\n",
    "       '일사(MJ/m2)', '전운량(10분위)', '운형(운형약어)', '지면온도(°C)', '발전량'])\n",
    "        return power_weather_09h\n",
    "    elif spec_hours =='13시':\n",
    "        power_weather_13h = pd.DataFrame(power_weather_13h_list,index=date_13h, columns=['기온(°C)', '강수량(mm)', '풍속(m/s)', '풍향(16방위)', '습도(%)', '일조(hr)',\n",
    "       '일사(MJ/m2)', '전운량(10분위)', '운형(운형약어)', '지면온도(°C)', '발전량'])\n",
    "        return power_weather_13h\n",
    "    elif spec_hours =='17시':\n",
    "        power_weather_17h = pd.DataFrame(power_weather_17h_list,index=date_17h, columns=['기온(°C)', '강수량(mm)', '풍속(m/s)', '풍향(16방위)', '습도(%)', '일조(hr)',\n",
    "       '일사(MJ/m2)', '전운량(10분위)', '운형(운형약어)', '지면온도(°C)', '발전량'])\n",
    "        return power_weather_17h"
   ]
  },
  {
   "cell_type": "markdown",
   "metadata": {},
   "source": [
    "###### 영암"
   ]
  },
  {
   "cell_type": "code",
   "execution_count": null,
   "metadata": {},
   "outputs": [],
   "source": [
    "power_weather_2017_09h_영암  =distinguish_hours(power_weather_2017_영암, '9시')\n",
    "power_weather_2017_13h_영암 =distinguish_hours(power_weather_2017_영암, '13시')\n",
    "power_weather_2017_17h_영암 =distinguish_hours(power_weather_2017_영암, '17시')"
   ]
  },
  {
   "cell_type": "code",
   "execution_count": null,
   "metadata": {},
   "outputs": [],
   "source": [
    "power_weather_2018_09h_영암  =distinguish_hours(power_weather_2018_영암, '9시')\n",
    "power_weather_2018_13h_영암 =distinguish_hours(power_weather_2018_영암, '13시')\n",
    "power_weather_2018_17h_영암 =distinguish_hours(power_weather_2018_영암, '17시')"
   ]
  },
  {
   "cell_type": "code",
   "execution_count": null,
   "metadata": {},
   "outputs": [],
   "source": [
    "power_weather_2019_09h_영암  =distinguish_hours(power_weather_2019_영암, '9시')\n",
    "power_weather_2019_13h_영암 =distinguish_hours(power_weather_2019_영암, '13시')\n",
    "power_weather_2019_17h_영암 =distinguish_hours(power_weather_2019_영암, '17시')"
   ]
  },
  {
   "cell_type": "markdown",
   "metadata": {},
   "source": [
    "###### 세종"
   ]
  },
  {
   "cell_type": "code",
   "execution_count": null,
   "metadata": {},
   "outputs": [],
   "source": [
    "power_weather_2017_09h_세종  =distinguish_hours(power_weather_2017_세종, '9시')\n",
    "power_weather_2017_13h_세종 =distinguish_hours(power_weather_2017_세종, '13시')\n",
    "power_weather_2017_17h_세종 =distinguish_hours(power_weather_2017_세종, '17시')"
   ]
  },
  {
   "cell_type": "code",
   "execution_count": null,
   "metadata": {},
   "outputs": [],
   "source": [
    "power_weather_2018_09h_세종  =distinguish_hours(power_weather_2018_세종, '9시')\n",
    "power_weather_2018_13h_세종 =distinguish_hours(power_weather_2018_세종, '13시')\n",
    "power_weather_2018_17h_세종 =distinguish_hours(power_weather_2018_세종, '17시')"
   ]
  },
  {
   "cell_type": "code",
   "execution_count": null,
   "metadata": {},
   "outputs": [],
   "source": [
    "power_weather_2019_09h_세종  =distinguish_hours(power_weather_2019_세종, '9시')\n",
    "power_weather_2019_13h_세종 =distinguish_hours(power_weather_2019_세종, '13시')\n",
    "power_weather_2019_17h_세종 =distinguish_hours(power_weather_2019_세종, '17시')"
   ]
  },
  {
   "cell_type": "markdown",
   "metadata": {},
   "source": [
    "###### 안산"
   ]
  },
  {
   "cell_type": "code",
   "execution_count": null,
   "metadata": {},
   "outputs": [],
   "source": [
    "power_weather_2017_09h_안산  =distinguish_hours(power_weather_2017_안산, '9시')\n",
    "power_weather_2017_13h_안산 =distinguish_hours(power_weather_2017_안산, '13시')\n",
    "power_weather_2017_17h_안산 =distinguish_hours(power_weather_2017_안산, '17시')"
   ]
  },
  {
   "cell_type": "code",
   "execution_count": null,
   "metadata": {},
   "outputs": [],
   "source": [
    "power_weather_2018_09h_안산  =distinguish_hours(power_weather_2018_안산, '9시')\n",
    "power_weather_2018_13h_안산 =distinguish_hours(power_weather_2018_안산, '13시')\n",
    "power_weather_2018_17h_안산 =distinguish_hours(power_weather_2018_안산, '17시')"
   ]
  },
  {
   "cell_type": "code",
   "execution_count": null,
   "metadata": {},
   "outputs": [],
   "source": [
    "power_weather_2019_09h_안산  =distinguish_hours(power_weather_2019_안산, '9시')\n",
    "power_weather_2019_13h_안산 =distinguish_hours(power_weather_2019_안산, '13시')\n",
    "power_weather_2019_17h_안산 =distinguish_hours(power_weather_2019_안산, '17시')"
   ]
  },
  {
   "cell_type": "code",
   "execution_count": null,
   "metadata": {},
   "outputs": [],
   "source": [
    "# # 09:00~09:59 까지의 날씨 데이터 EDA\n",
    "\n",
    "# # 기온\n",
    "# fig, ax = plt.subplots(figsize=(8,5))\n",
    "\n",
    "# ax.plot(power_weather_2017_09h_영암.index, power_weather_2017_09h_영암['기온(°C)'], color='b')\n",
    "# ax.set_title('2017 Weather : temperature')\n",
    "\n",
    "# # 일사량\n",
    "# fig, ax = plt.subplots(figsize=(8,5))\n",
    "\n",
    "# ax.plot(power_weather_2017_09h_영암.index, power_weather_2017_09h_영암['일사(MJ/m2)'], color='b')\n",
    "# ax.set_title('2017 Weather : Solar Radiaion')\n",
    "\n",
    "# # 습도\n",
    "# fig, ax = plt.subplots(figsize=(8,5))\n",
    "\n",
    "# ax.plot(power_weather_2017_09h_영암.index, power_weather_2017_09h_영암['습도(%)'], color='b')\n",
    "# ax.set_title('2017 Weather : Humidity')"
   ]
  },
  {
   "cell_type": "code",
   "execution_count": null,
   "metadata": {},
   "outputs": [],
   "source": [
    "# sns.pairplot(power_weather_2017_09h_영암, x_vars=['일시', '기온(°C)', '강수량(mm)', '풍속(m/s)', '풍향(16방위)', '습도(%)'],y_vars=['발전량'])\n",
    "\n",
    "# sns.pairplot(power_weather_2017_09h_영암, x_vars=['일시', '일조(hr)', '일사(MJ/m2)', '전운량(10분위)', '지면온도(°C)'] ,y_vars=['발전량'])\n"
   ]
  },
  {
   "cell_type": "code",
   "execution_count": null,
   "metadata": {},
   "outputs": [],
   "source": [
    "# 태양광 발전과 일사량사이의 상관관계 (09:00~09:59)\n",
    "# sns.jointplot(x='일사(MJ/m2)', y='발전량', data=power_weather_2017_09h_영암, kind='reg')"
   ]
  },
  {
   "cell_type": "code",
   "execution_count": null,
   "metadata": {},
   "outputs": [],
   "source": [
    "# 태양광 발전과 습도사이의 상관관계 (09:00~09:59)\n",
    "# sns.jointplot(x='습도(%)', y='발전량', data=power_weather_2017_09h_영암, kind='reg')"
   ]
  },
  {
   "cell_type": "code",
   "execution_count": null,
   "metadata": {},
   "outputs": [],
   "source": [
    "# 상관계수 행렬\n",
    "power_weather_2017_09h_영암.corr()"
   ]
  },
  {
   "cell_type": "markdown",
   "metadata": {},
   "source": [
    "##### 영암 발전소의 (09:00~09:59) 까지의 발전량은 일사량이 가장많은 상관관계(0.875553), 지면온도(0.663508), 일조량(0.654889) 등이 다음으로 양의 상관관계를 보이고 전운량(-0.603045), 습도(-0.401793)가 음의 상관관계를 보임"
   ]
  },
  {
   "cell_type": "code",
   "execution_count": null,
   "metadata": {},
   "outputs": [],
   "source": [
    "power_weather_2017_13h_영암.corr()"
   ]
  },
  {
   "cell_type": "markdown",
   "metadata": {},
   "source": [
    "#####  영암 발전소의 (13:00~13:59) 까지의 발전량은 일사량이 가장많은 상관관계(0.795109) 일조량(0.772229) 등이 다음으로 양의 상관관계를 보이고 전운량(-0.723233\t), 습도(-0.602046)가 음의 상관관계를 보임\n",
    "##### 9시와는 다르게 기온과 지면온도는 발전량에 미미한 영향을 보여주고 있고 전운량의 음의 상관관계가 강해졌다\n"
   ]
  },
  {
   "cell_type": "code",
   "execution_count": null,
   "metadata": {},
   "outputs": [],
   "source": [
    "power_weather_2017_17h_영암.corr()"
   ]
  },
  {
   "cell_type": "markdown",
   "metadata": {},
   "source": [
    "#####  영암 발전소의 (17:00~17:59) 까지의 발전량은 일조량(0.832069)  일사량(0.816160) 등이 다음으로 양의 상관관계를 보이고 전운량(-0.552438\t)가 음의 상관관계를 보임\n",
    "##### 17시에는 일사량보다 일조량이 더많은 양의 상관관계를 보여주고있고 전운량이 여전히 가장 강한 음의 상관관계를 보이고있음\n"
   ]
  },
  {
   "cell_type": "markdown",
   "metadata": {},
   "source": [
    "#### 발전량을 예측 하는데 있어서 주의 깊게 봐야할 변수는 일조, 일사, 전운량, 습도, 지면온도 등을 집중적으로 봐야할것 같다"
   ]
  },
  {
   "cell_type": "code",
   "execution_count": null,
   "metadata": {
    "scrolled": true
   },
   "outputs": [],
   "source": [
    "# power_weather_2017_09h_세종.corr()"
   ]
  },
  {
   "cell_type": "code",
   "execution_count": null,
   "metadata": {},
   "outputs": [],
   "source": [
    "# power_weather_2017_13h_세종.corr()"
   ]
  },
  {
   "cell_type": "code",
   "execution_count": null,
   "metadata": {},
   "outputs": [],
   "source": [
    "# power_weather_2017_17h_세종.corr()"
   ]
  },
  {
   "cell_type": "code",
   "execution_count": null,
   "metadata": {},
   "outputs": [],
   "source": [
    "power_weather_2017_09h_안산.corr()"
   ]
  },
  {
   "cell_type": "code",
   "execution_count": null,
   "metadata": {},
   "outputs": [],
   "source": [
    "power_weather_2017_13h_안산.corr()"
   ]
  },
  {
   "cell_type": "code",
   "execution_count": null,
   "metadata": {},
   "outputs": [],
   "source": [
    "power_weather_2017_17h_안산.corr()"
   ]
  },
  {
   "cell_type": "code",
   "execution_count": null,
   "metadata": {},
   "outputs": [],
   "source": [
    "a=power_weather_2017_09h_영암.reset_index().drop(['index','운형(운형약어)','풍향(16방위)'], axis=1).fillna(0)\n",
    "b=power_weather_2018_09h_영암.reset_index().drop(['index','운형(운형약어)','풍향(16방위)'], axis=1).fillna(0)\n",
    "c=power_weather_2019_09h_영암.reset_index().drop(['index','운형(운형약어)','풍향(16방위)'], axis=1).fillna(0)\n",
    "power_weather_09h_영암_mean = (a+b+c)/3\n",
    "power_weather_09h_영암_mean.corr()"
   ]
  },
  {
   "cell_type": "code",
   "execution_count": null,
   "metadata": {},
   "outputs": [],
   "source": [
    "a=power_weather_2017_13h_영암.reset_index().drop(['index','운형(운형약어)','풍향(16방위)'], axis=1).fillna(0)\n",
    "b=power_weather_2018_13h_영암.reset_index().drop(['index','운형(운형약어)','풍향(16방위)'], axis=1).fillna(0)\n",
    "c=power_weather_2019_13h_영암.reset_index().drop(['index','운형(운형약어)','풍향(16방위)'], axis=1).fillna(0)\n",
    "power_weather_13h_영암_mean = (a+b+c)/3\n",
    "power_weather_13h_영암_mean.corr()"
   ]
  },
  {
   "cell_type": "code",
   "execution_count": null,
   "metadata": {},
   "outputs": [],
   "source": [
    "a=power_weather_2017_17h_영암.reset_index().drop(['index','운형(운형약어)','풍향(16방위)'], axis=1).fillna(0)\n",
    "b=power_weather_2018_17h_영암.reset_index().drop(['index','운형(운형약어)','풍향(16방위)'], axis=1).fillna(0)\n",
    "c=power_weather_2019_17h_영암.reset_index().drop(['index','운형(운형약어)','풍향(16방위)'], axis=1).fillna(0)\n",
    "power_weather_17h_영암_mean = (a+b+c)/3\n",
    "power_weather_17h_영암_mean.corr()"
   ]
  },
  {
   "cell_type": "markdown",
   "metadata": {},
   "source": [
    "#### 기상청의 기상데이터 - 발전소 센저정보의 기상데이터 - 발전량"
   ]
  },
  {
   "cell_type": "code",
   "execution_count": null,
   "metadata": {},
   "outputs": [],
   "source": []
  }
 ],
 "metadata": {
  "kernelspec": {
   "display_name": "Python 3",
   "language": "python",
   "name": "python3"
  },
  "language_info": {
   "codemirror_mode": {
    "name": "ipython",
    "version": 3
   },
   "file_extension": ".py",
   "mimetype": "text/x-python",
   "name": "python",
   "nbconvert_exporter": "python",
   "pygments_lexer": "ipython3",
   "version": "3.6.10"
  }
 },
 "nbformat": 4,
 "nbformat_minor": 4
}
